{
 "cells": [
  {
   "cell_type": "raw",
   "id": "ac4a0dc1",
   "metadata": {},
   "source": [
    "Question 1. Write a python program which searches all the product under a particular product from www.amazon.in. The \n",
    "product to be searched will be taken as input from user. For e.g. If user input is ‘guitar’. Then search for \n",
    "guitars"
   ]
  },
  {
   "cell_type": "code",
   "execution_count": 224,
   "id": "56f40a23",
   "metadata": {},
   "outputs": [
    {
     "name": "stdout",
     "output_type": "stream",
     "text": [
      "Please enter a product name:mens watches\n"
     ]
    },
    {
     "data": {
      "text/plain": [
       "['mens watches']"
      ]
     },
     "execution_count": 224,
     "metadata": {},
     "output_type": "execute_result"
    }
   ],
   "source": [
    "user_input = []\n",
    "customer = input(str(\"Please enter a product name:\"))\n",
    "i = customer\n",
    "user_input.append(i)\n",
    "user_input\n"
   ]
  },
  {
   "cell_type": "code",
   "execution_count": 228,
   "id": "6e9e1cc1",
   "metadata": {},
   "outputs": [
    {
     "name": "stdout",
     "output_type": "stream",
     "text": [
      "Please enter a product name:mens watches\n"
     ]
    },
    {
     "data": {
      "text/plain": [
       "'mens watches'"
      ]
     },
     "execution_count": 228,
     "metadata": {},
     "output_type": "execute_result"
    }
   ],
   "source": [
    "# Second method to question 1.\n",
    "customer=input(\"Please enter a product name:\")\n",
    "customer"
   ]
  },
  {
   "cell_type": "markdown",
   "id": "65af7e5c",
   "metadata": {},
   "source": [
    "QUESTION 2.\n",
    "\n",
    "In the above question, now scrape the following details of each product listed in first 3 pages of your search \n",
    "results and save it in a data frame and csv. In case if any product has less than 3 pages in search results then \n",
    "scrape all the products available under that product name. Details to be scraped are: \"Brand \n",
    "Name\", \"Name of the Product\", \"Price\", \"Return/Exchange\", \"Expected Delivery\", \"Availability\" and \n",
    "“Product URL”. In case, if any of the details are missing for any of the product then replace it by “-“. "
   ]
  },
  {
   "cell_type": "code",
   "execution_count": 2,
   "id": "d54fa9fa",
   "metadata": {},
   "outputs": [],
   "source": [
    "# Importing Libraries\n",
    "import selenium\n",
    "import pandas as pd \n",
    "import time \n",
    "from bs4 import BeautifulSoup\n",
    "import warnings\n",
    "warnings.filterwarnings('ignore')\n",
    "\n",
    "# Importing selenium wendriver\n",
    "from selenium import webdriver\n",
    "\n",
    "# importing required Exceptions which needs to handled\n",
    "from selenium.common.exceptions import StaleElementReferenceException, NoSuchElementException\n",
    "\n",
    "# importing requests\n",
    "import requests\n",
    "\n",
    "from selenium.webdriver.common.by import By"
   ]
  },
  {
   "cell_type": "code",
   "execution_count": 47,
   "id": "6303c925",
   "metadata": {},
   "outputs": [],
   "source": [
    "driver = webdriver.Chrome()\n",
    "##Opening the amazon.in page on automated chrome broswer\n",
    "driver.get(\"https://www.amazon.in/\")"
   ]
  },
  {
   "cell_type": "code",
   "execution_count": 48,
   "id": "6105aa32",
   "metadata": {},
   "outputs": [],
   "source": [
    "# To search for men's watches in the search field\n",
    "search_product=driver.find_element(By.XPATH,'/html/body/div[1]/header/div/div[1]/div[2]/div/form/div[2]/div[1]/input')    # product search bar\n",
    "search_product.send_keys('mens watches')"
   ]
  },
  {
   "cell_type": "code",
   "execution_count": 49,
   "id": "dfe343f2",
   "metadata": {},
   "outputs": [],
   "source": [
    "search=driver.find_element(By.XPATH,\"/html/body/div[1]/header/div/div[1]/div[2]/div/form/div[3]/div/span/input\")\n",
    "search.click()"
   ]
  },
  {
   "cell_type": "code",
   "execution_count": 50,
   "id": "b063606c",
   "metadata": {},
   "outputs": [],
   "source": [
    "# fetching the out url\n",
    "item_url =[]    # creating empty list\n",
    "start=0     # creating variable name start which is equal to index 0 and page 1 in the given page to start \n",
    "end=3      # creating variable name end which is equal to index 2 and page 3\n",
    "for page in range(start,end):\n",
    "    url = driver.find_elements(By.XPATH,'//a[@class=\"a-link-normal s-underline-text s-underline-link-text s-link-style a-text-normal\"]')\n",
    "    for i in url:\n",
    "        item_url.append(i.get_attribute('href')) # to retrieve any link we use get_attribute\n",
    "    next_button=driver.find_element(By.XPATH, '//a[@class=\"s-pagination-item s-pagination-next s-pagination-button s-pagination-separator\"]')                  #  To scrap data from next page\n",
    "    next_button.click()\n",
    "    time.sleep(3)"
   ]
  },
  {
   "cell_type": "code",
   "execution_count": 51,
   "id": "6c1685d0",
   "metadata": {},
   "outputs": [
    {
     "data": {
      "text/plain": [
       "189"
      ]
     },
     "execution_count": 51,
     "metadata": {},
     "output_type": "execute_result"
    }
   ],
   "source": [
    "len(item_url)"
   ]
  },
  {
   "cell_type": "code",
   "execution_count": 52,
   "id": "b7c9ba24",
   "metadata": {},
   "outputs": [
    {
     "name": "stdout",
     "output_type": "stream",
     "text": [
      "['https://www.amazon.in/sspa/click?ie=UTF8&spc=MTo4MDAxOTgwNDcxNDk1NjE0OjE2OTQwOTE4MTk6c3BfYXRmOjIwMTIxODM4ODkzNzk4OjowOjo&url=%2FFossil-Chronograph-Silver-Dial-Watch-CH2882%2Fdp%2FB00DUCIK7U%2Fref%3Dsr_1_1_sspa%3Fcrid%3D1MECILXNL9J2U%26keywords%3Dmens%2Bwatches%26qid%3D1694091819%26sprefix%3Dmens%2Bwatches%252Caps%252C104%26sr%3D8-1-spons%26sp_csd%3Dd2lkZ2V0TmFtZT1zcF9hdGY%26psc%3D1', 'https://www.amazon.in/sspa/click?ie=UTF8&spc=MTo4MDAxOTgwNDcxNDk1NjE0OjE2OTQwOTE4MTk6c3BfYXRmOjIwMTIxODM4ODkzMzk4OjowOjo&url=%2FFossil-Fenmore-Multifunction-Black-BQ2364%2Fdp%2FB07R4P572S%2Fref%3Dsr_1_2_sspa%3Fcrid%3D1MECILXNL9J2U%26keywords%3Dmens%2Bwatches%26qid%3D1694091819%26sprefix%3Dmens%2Bwatches%252Caps%252C104%26sr%3D8-2-spons%26sp_csd%3Dd2lkZ2V0TmFtZT1zcF9hdGY%26psc%3D1', 'https://www.amazon.in/sspa/click?ie=UTF8&spc=MTo4MDAxOTgwNDcxNDk1NjE0OjE2OTQwOTE4MTk6c3BfYXRmOjIwMTIxODM4ODkzNTk4OjowOjo&url=%2FFossil-Decker-Chronograph-Black-Watch-CH2885%2Fdp%2FB00EVZ83J0%2Fref%3Dsr_1_3_sspa%3Fcrid%3D1MECILXNL9J2U%26keywords%3Dmens%2Bwatches%26qid%3D1694091819%26sprefix%3Dmens%2Bwatches%252Caps%252C104%26sr%3D8-3-spons%26sp_csd%3Dd2lkZ2V0TmFtZT1zcF9hdGY%26psc%3D1', 'https://www.amazon.in/sspa/click?ie=UTF8&spc=MTo4MDAxOTgwNDcxNDk1NjE0OjE2OTQwOTE4MTk6c3BfYXRmOjIwMTQ1NDg0MzAzMjk4OjowOjo&url=%2FFossil-Defender-Analog-Black-Watch-FS5978%2Fdp%2FB0BQPJQBMQ%2Fref%3Dsr_1_4_sspa%3Fcrid%3D1MECILXNL9J2U%26keywords%3Dmens%2Bwatches%26qid%3D1694091819%26sprefix%3Dmens%2Bwatches%252Caps%252C104%26sr%3D8-4-spons%26sp_csd%3Dd2lkZ2V0TmFtZT1zcF9hdGY%26psc%3D1', 'https://www.amazon.in/LOUIS-DEVIN-Silicone-Analog-LD-BK054-BLACK/dp/B0BD5R89RQ/ref=sr_1_5?crid=1MECILXNL9J2U&keywords=mens+watches&qid=1694091819&sprefix=mens+watches%2Caps%2C104&sr=8-5', 'https://www.amazon.in/TIMEWEAR-Functioning-White-Chain-Watch/dp/B07MDGSP8F/ref=sr_1_6?crid=1MECILXNL9J2U&keywords=mens+watches&qid=1694091819&sprefix=mens+watches%2Caps%2C104&sr=8-6', 'https://www.amazon.in/Timex-Analog-Blue-Dial-Watch-TW00ZR262E/dp/B07H3K85H5/ref=sr_1_7?crid=1MECILXNL9J2U&keywords=mens+watches&qid=1694091819&sprefix=mens+watches%2Caps%2C104&sr=8-7', 'https://www.amazon.in/sspa/click?ie=UTF8&spc=MTozMDA4MzEyMjg1NDM2NjE0OjE2OTQwOTE4MTk6c3Bfc2VhcmNoX3RoZW1hdGljOjIwMTIxODM4ODkzNzk4OjowOjo&url=%2FFossil-Chronograph-Silver-Dial-Watch-CH2882%2Fdp%2FB00DUCIK7U%2Fref%3Dsxin_17_pa_sp_search_thematic_sspa%3Fcontent-id%3Damzn1.sym.5c2af76f-28ad-42b0-80ba-b318af0af39f%253Aamzn1.sym.5c2af76f-28ad-42b0-80ba-b318af0af39f%26crid%3D1MECILXNL9J2U%26cv_ct_cx%3Dmens%2Bwatches%26keywords%3Dmens%2Bwatches%26pd_rd_i%3DB00DUCIK7U%26pd_rd_r%3D3f49caf8-09ca-40c7-8b5e-58b2998ab69b%26pd_rd_w%3DMZx8g%26pd_rd_wg%3D19B89%26pf_rd_p%3D5c2af76f-28ad-42b0-80ba-b318af0af39f%26pf_rd_r%3DREZA88XA0GENC04J8W4J%26qid%3D1694091819%26sbo%3DRZvfv%252F%252FHxDF%252BO5021pAnSA%253D%253D%26sprefix%3Dmens%2Bwatches%252Caps%252C104%26sr%3D1-1-57f7ded0-ad23-4d3a-8b1d-eb8cdd1b0fe5-spons%26sp_csd%3Dd2lkZ2V0TmFtZT1zcF9zZWFyY2hfdGhlbWF0aWM%26psc%3D1', 'https://www.amazon.in/sspa/click?ie=UTF8&spc=MTozMDA4MzEyMjg1NDM2NjE0OjE2OTQwOTE4MTk6c3Bfc2VhcmNoX3RoZW1hdGljOjIwMTIxODM4ODkzNTk4OjoxOjo&url=%2FFossil-Decker-Chronograph-Black-Watch-CH2885%2Fdp%2FB00EVZ83J0%2Fref%3Dsxin_17_pa_sp_search_thematic_sspa%3Fcontent-id%3Damzn1.sym.5c2af76f-28ad-42b0-80ba-b318af0af39f%253Aamzn1.sym.5c2af76f-28ad-42b0-80ba-b318af0af39f%26crid%3D1MECILXNL9J2U%26cv_ct_cx%3Dmens%2Bwatches%26keywords%3Dmens%2Bwatches%26pd_rd_i%3DB00EVZ83J0%26pd_rd_r%3D3f49caf8-09ca-40c7-8b5e-58b2998ab69b%26pd_rd_w%3DMZx8g%26pd_rd_wg%3D19B89%26pf_rd_p%3D5c2af76f-28ad-42b0-80ba-b318af0af39f%26pf_rd_r%3DREZA88XA0GENC04J8W4J%26qid%3D1694091819%26sbo%3DRZvfv%252F%252FHxDF%252BO5021pAnSA%253D%253D%26sprefix%3Dmens%2Bwatches%252Caps%252C104%26sr%3D1-2-57f7ded0-ad23-4d3a-8b1d-eb8cdd1b0fe5-spons%26sp_csd%3Dd2lkZ2V0TmFtZT1zcF9zZWFyY2hfdGhlbWF0aWM%26psc%3D1', 'https://www.amazon.in/sspa/click?ie=UTF8&spc=MTozMDA4MzEyMjg1NDM2NjE0OjE2OTQwOTE4MTk6c3Bfc2VhcmNoX3RoZW1hdGljOjIwMTM2MzcyNjU0NTk4OjoyOjo&url=%2FTIMEX-TW00ZR261E%2Fdp%2FB07H3T56MJ%2Fref%3Dsxin_17_pa_sp_search_thematic_sspa%3Fcontent-id%3Damzn1.sym.5c2af76f-28ad-42b0-80ba-b318af0af39f%253Aamzn1.sym.5c2af76f-28ad-42b0-80ba-b318af0af39f%26crid%3D1MECILXNL9J2U%26cv_ct_cx%3Dmens%2Bwatches%26keywords%3Dmens%2Bwatches%26pd_rd_i%3DB07H3T56MJ%26pd_rd_r%3D3f49caf8-09ca-40c7-8b5e-58b2998ab69b%26pd_rd_w%3DMZx8g%26pd_rd_wg%3D19B89%26pf_rd_p%3D5c2af76f-28ad-42b0-80ba-b318af0af39f%26pf_rd_r%3DREZA88XA0GENC04J8W4J%26qid%3D1694091819%26sbo%3DRZvfv%252F%252FHxDF%252BO5021pAnSA%253D%253D%26sprefix%3Dmens%2Bwatches%252Caps%252C104%26sr%3D1-3-57f7ded0-ad23-4d3a-8b1d-eb8cdd1b0fe5-spons%26sp_csd%3Dd2lkZ2V0TmFtZT1zcF9zZWFyY2hfdGhlbWF0aWM%26psc%3D1', 'https://www.amazon.in/sspa/click?ie=UTF8&spc=MTozMDA4MzEyMjg1NDM2NjE0OjE2OTQwOTE4MTk6c3Bfc2VhcmNoX3RoZW1hdGljOjIwMTIxODM4ODkzNDk4OjozOjo&url=%2FFossil-Tillie-Analog-Womens-Watch-BQ3497%2Fdp%2FB08YJNVS5M%2Fref%3Dsxin_17_pa_sp_search_thematic_sspa%3Fcontent-id%3Damzn1.sym.5c2af76f-28ad-42b0-80ba-b318af0af39f%253Aamzn1.sym.5c2af76f-28ad-42b0-80ba-b318af0af39f%26crid%3D1MECILXNL9J2U%26cv_ct_cx%3Dmens%2Bwatches%26keywords%3Dmens%2Bwatches%26pd_rd_i%3DB08YJNVS5M%26pd_rd_r%3D3f49caf8-09ca-40c7-8b5e-58b2998ab69b%26pd_rd_w%3DMZx8g%26pd_rd_wg%3D19B89%26pf_rd_p%3D5c2af76f-28ad-42b0-80ba-b318af0af39f%26pf_rd_r%3DREZA88XA0GENC04J8W4J%26qid%3D1694091819%26sbo%3DRZvfv%252F%252FHxDF%252BO5021pAnSA%253D%253D%26sprefix%3Dmens%2Bwatches%252Caps%252C104%26sr%3D1-4-57f7ded0-ad23-4d3a-8b1d-eb8cdd1b0fe5-spons%26sp_csd%3Dd2lkZ2V0TmFtZT1zcF9zZWFyY2hfdGhlbWF0aWM%26psc%3D1', 'https://www.amazon.in/sspa/click?ie=UTF8&spc=MTozMDA4MzEyMjg1NDM2NjE0OjE2OTQwOTE4MTk6c3Bfc2VhcmNoX3RoZW1hdGljOjIwMDg0NzkyODk2MjA3Ojo0Ojo&url=%2FBenyar-Business-Casual-Stainless-Display%2Fdp%2FB09GRRHKKT%2Fref%3Dsxin_17_pa_sp_search_thematic_sspa%3Fcontent-id%3Damzn1.sym.5c2af76f-28ad-42b0-80ba-b318af0af39f%253Aamzn1.sym.5c2af76f-28ad-42b0-80ba-b318af0af39f%26crid%3D1MECILXNL9J2U%26cv_ct_cx%3Dmens%2Bwatches%26keywords%3Dmens%2Bwatches%26pd_rd_i%3DB09GRRHKKT%26pd_rd_r%3D3f49caf8-09ca-40c7-8b5e-58b2998ab69b%26pd_rd_w%3DMZx8g%26pd_rd_wg%3D19B89%26pf_rd_p%3D5c2af76f-28ad-42b0-80ba-b318af0af39f%26pf_rd_r%3DREZA88XA0GENC04J8W4J%26qid%3D1694091819%26sbo%3DRZvfv%252F%252FHxDF%252BO5021pAnSA%253D%253D%26sprefix%3Dmens%2Bwatches%252Caps%252C104%26sr%3D1-5-57f7ded0-ad23-4d3a-8b1d-eb8cdd1b0fe5-spons%26sp_csd%3Dd2lkZ2V0TmFtZT1zcF9zZWFyY2hfdGhlbWF0aWM%26psc%3D1', 'https://www.amazon.in/Louis-Devin-Steel-Analog-G042-BLK-CH/dp/B09LVH9PPN/ref=sr_1_8?crid=1MECILXNL9J2U&keywords=mens+watches&qid=1694091819&sprefix=mens+watches%2Caps%2C104&sr=8-8', 'https://www.amazon.in/Fastrack-Analog-Black-Unisex-Adult-Watch-38024PP25/dp/B099WNYHY2/ref=sr_1_9?crid=1MECILXNL9J2U&keywords=mens+watches&qid=1694091819&sprefix=mens+watches%2Caps%2C104&sr=8-9', 'https://www.amazon.in/Casio-Vintage-Digital-Grey-Watch-A158WA-1Q/dp/B000GAYQJ0/ref=sr_1_10?crid=1MECILXNL9J2U&keywords=mens+watches&qid=1694091819&sprefix=mens+watches%2Caps%2C104&sr=8-10', 'https://www.amazon.in/Shocknshop-Analogue-Black-Stainless-W219/dp/B07RXZPMZ8/ref=sr_1_11?crid=1MECILXNL9J2U&keywords=mens+watches&qid=1694091819&sprefix=mens+watches%2Caps%2C104&sr=8-11', 'https://www.amazon.in/Skmei-Digital-Sports-Watch-SKMEI/dp/B0851ZMBYV/ref=sr_1_12?crid=1MECILXNL9J2U&keywords=mens+watches&qid=1694091819&sprefix=mens+watches%2Caps%2C104&sr=8-12', 'https://www.amazon.in/Titan-Analog-Off-White-Dial-Watch-NJ1712YM02/dp/B01CLFHBAS/ref=sr_1_13?crid=1MECILXNL9J2U&keywords=mens+watches&qid=1694091819&sprefix=mens+watches%2Caps%2C104&sr=8-13', 'https://aax-eu.amazon.in/x/c/RBF5B8AmeqD5pT2wpjY7FIoAAAGKb724JgMAAAH2AQBvbm9fdHhuX2JpZDIgICBvbm9fdHhuX2ltcDEgICCaUKXb/https://www.amazon.in/NIBOSI-Analogue-Waterproof-Gentlemen-Birthday/dp/B0BMQB577P/ref=sxin_25_sbv_search_btf?content-id=amzn1.sym.ea7f11f8-e26c-4b10-84ad-15aa33ea30ac%3Aamzn1.sym.ea7f11f8-e26c-4b10-84ad-15aa33ea30ac&crid=1MECILXNL9J2U&cv_ct_cx=mens+watches&keywords=mens+watches&pd_rd_i=B0BMQB577P&pd_rd_r=3f49caf8-09ca-40c7-8b5e-58b2998ab69b&pd_rd_w=nVtRm&pd_rd_wg=19B89&pf_rd_p=ea7f11f8-e26c-4b10-84ad-15aa33ea30ac&pf_rd_r=REZA88XA0GENC04J8W4J&qid=1694091819&sbo=RZvfv%2F%2FHxDF%2BO5021pAnSA%3D%3D&sprefix=mens+watches%2Caps%2C104&sr=1-1-9131241a-a358-4619-a7b8-0f5a65d91d81', 'https://www.amazon.in/Fossil-Analog-Blue-Dial-Watch-FS5237/dp/B01KNMEVDG/ref=sr_1_14?crid=1MECILXNL9J2U&keywords=mens+watches&qid=1694091819&sprefix=mens+watches%2Caps%2C104&sr=8-14', 'https://www.amazon.in/TIMEWEAR-Analog-Hands-Brown-Leather/dp/B07DN93B9R/ref=sr_1_15?crid=1MECILXNL9J2U&keywords=mens+watches&qid=1694091819&sprefix=mens+watches%2Caps%2C104&sr=8-15', 'https://www.amazon.in/Pebble-Thrones-Limited-Smartwatch-Always/dp/B0CC5WZ9SS/ref=sr_1_16?crid=1MECILXNL9J2U&keywords=mens+watches&qid=1694091819&sprefix=mens+watches%2Caps%2C104&sr=8-16', 'https://www.amazon.in/Sonata-Analog-Champagne-Dial-Watch-77049YM01C/dp/B072VHGQJK/ref=sr_1_17?crid=1MECILXNL9J2U&keywords=mens+watches&qid=1694091819&sprefix=mens+watches%2Caps%2C104&sr=8-17', 'https://www.amazon.in/LOUIS-DEVIN-Analog-Silver-Colored/dp/B07GQ7P16Y/ref=sr_1_18?crid=1MECILXNL9J2U&keywords=mens+watches&qid=1694091819&sprefix=mens+watches%2Caps%2C104&sr=8-18', 'https://www.amazon.in/Matrix-Analog-Black-Interchangeable-Straps/dp/B0C6K7GVV3/ref=sr_1_19?crid=1MECILXNL9J2U&keywords=mens+watches&qid=1694091819&sprefix=mens+watches%2Caps%2C104&sr=8-19', 'https://www.amazon.in/Fastrack-Analog-Black-Dial-Watch-NG38022PP03C/dp/B01AHKDFIQ/ref=sr_1_20?crid=1MECILXNL9J2U&keywords=mens+watches&qid=1694091819&sprefix=mens+watches%2Caps%2C104&sr=8-20', 'https://www.amazon.in/sspa/click?ie=UTF8&spc=MTo4MDAxOTgwNDcxNDk1NjE0OjE2OTQwOTE4MTk6c3BfbXRmOjIwMTUyMTg1MjE3OTk4OjowOjo&url=%2FTIMEX-Analog-Silver-Dial-Watch-TW000R454%2Fdp%2FB0BYZ894J4%2Fref%3Dsr_1_21_sspa%3Fcrid%3D1MECILXNL9J2U%26keywords%3Dmens%2Bwatches%26qid%3D1694091819%26sprefix%3Dmens%2Bwatches%252Caps%252C104%26sr%3D8-21-spons%26sp_csd%3Dd2lkZ2V0TmFtZT1zcF9tdGY%26psc%3D1', 'https://www.amazon.in/sspa/click?ie=UTF8&spc=MTo4MDAxOTgwNDcxNDk1NjE0OjE2OTQwOTE4MTk6c3BfbXRmOjIwMTQxMDc1MDQ4ODk4OjowOjo&url=%2FTimex-Classics-Analog-White-Watch-A303%2Fdp%2FB007R9Z1RO%2Fref%3Dsr_1_22_sspa%3Fcrid%3D1MECILXNL9J2U%26keywords%3Dmens%2Bwatches%26qid%3D1694091819%26sprefix%3Dmens%2Bwatches%252Caps%252C104%26sr%3D8-22-spons%26sp_csd%3Dd2lkZ2V0TmFtZT1zcF9tdGY%26psc%3D1', 'https://www.amazon.in/sspa/click?ie=UTF8&spc=MTo4MDAxOTgwNDcxNDk1NjE0OjE2OTQwOTE4MTk6c3BfbXRmOjIwMTIxODM4ODkzNDk4OjowOjo&url=%2FFossil-Tillie-Analog-Womens-Watch-BQ3497%2Fdp%2FB08YJNVS5M%2Fref%3Dsr_1_23_sspa%3Fcrid%3D1MECILXNL9J2U%26keywords%3Dmens%2Bwatches%26qid%3D1694091819%26sprefix%3Dmens%2Bwatches%252Caps%252C104%26sr%3D8-23-spons%26sp_csd%3Dd2lkZ2V0TmFtZT1zcF9tdGY%26psc%3D1', 'https://www.amazon.in/sspa/click?ie=UTF8&spc=MTo4MDAxOTgwNDcxNDk1NjE0OjE2OTQwOTE4MTk6c3BfbXRmOjIwMTUyMTE2MTU5Nzk4OjowOjo&url=%2FTimex-Analog-White-Dial-Watch-TW0TG5909%2Fdp%2FB01LFC8W2O%2Fref%3Dsr_1_24_sspa%3Fcrid%3D1MECILXNL9J2U%26keywords%3Dmens%2Bwatches%26qid%3D1694091819%26sprefix%3Dmens%2Bwatches%252Caps%252C104%26sr%3D8-24-spons%26sp_csd%3Dd2lkZ2V0TmFtZT1zcF9tdGY%26psc%3D1', 'https://www.amazon.in/Matrix-Analog-Functioning-Black-Stainless/dp/B08Y8S5JGZ/ref=sr_1_25?crid=1MECILXNL9J2U&keywords=mens+watches&qid=1694091819&sprefix=mens+watches%2Caps%2C104&sr=8-25', 'https://www.amazon.in/Armani-Exchange-Analog-Black-Watch-AX1343/dp/B0846PJPW9/ref=sr_1_26?crid=1MECILXNL9J2U&keywords=mens+watches&qid=1694091819&sprefix=mens+watches%2Caps%2C104&sr=8-26', 'https://www.amazon.in/Casio-Enticer-Multi-Watch-MTP-1374D-1AVDF-A832/dp/B00GRRIZK2/ref=sr_1_27?crid=1MECILXNL9J2U&keywords=mens+watches&qid=1694091819&sprefix=mens+watches%2Caps%2C104&sr=8-27', 'https://www.amazon.in/Matrix-Analog-Black-Silicone-Strap/dp/B08YWVRW41/ref=sr_1_28?crid=1MECILXNL9J2U&keywords=mens+watches&qid=1694091819&sprefix=mens+watches%2Caps%2C104&sr=8-28', 'https://www.amazon.in/Fastrack-Casual-Analog-White-Watch-NK3121SM01/dp/B00NLAUEDO/ref=sr_1_29?crid=1MECILXNL9J2U&keywords=mens+watches&qid=1694091819&sprefix=mens+watches%2Caps%2C104&sr=8-29', 'https://www.amazon.in/TIMEX-TWEG18502/dp/B083JVMZ75/ref=sr_1_30?crid=1MECILXNL9J2U&keywords=mens+watches&qid=1694091819&sprefix=mens+watches%2Caps%2C104&sr=8-30', 'https://www.amazon.in/Matrix-Collection-Wrist-Watch-DD-66/dp/B07XT45Z59/ref=sr_1_31?crid=1MECILXNL9J2U&keywords=mens+watches&qid=1694091819&sprefix=mens+watches%2Caps%2C104&sr=8-31', 'https://www.amazon.in/LORENZ-Detachable-Bracelet-Analogue-MK-4027R/dp/B00A1VRSFI/ref=sr_1_32?crid=1MECILXNL9J2U&keywords=mens+watches&qid=1694091819&sprefix=mens+watches%2Caps%2C104&sr=8-32', 'https://www.amazon.in/Fastrack-Fundamentals-Analog-Blue-Watch-38051SM03/dp/B07D2F8JNS/ref=sr_1_33?crid=1MECILXNL9J2U&keywords=mens+watches&qid=1694091819&sprefix=mens+watches%2Caps%2C104&sr=8-33', 'https://www.amazon.in/Acnos-Brand-Arrow-Black-Analog/dp/B0BS6ZP7KS/ref=sr_1_34?crid=1MECILXNL9J2U&keywords=mens+watches&qid=1694091819&sprefix=mens+watches%2Caps%2C104&sr=8-34', 'https://www.amazon.in/Sonata-Super-Fibre-Analog-Watch-NH7930PP01C/dp/B00ECWG1NC/ref=sr_1_35?crid=1MECILXNL9J2U&keywords=mens+watches&qid=1694091819&sprefix=mens+watches%2Caps%2C104&sr=8-35', 'https://www.amazon.in/NIBOSI-Minimalist-Business-Chronograph-Stainless/dp/B0C58HJTW5/ref=sr_1_36?crid=1MECILXNL9J2U&keywords=mens+watches&qid=1694091819&sprefix=mens+watches%2Caps%2C104&sr=8-36', 'https://www.amazon.in/SWISSTYLE-Analogue-Watch-Silver-Colored/dp/B07NJPQXVS/ref=sr_1_37?crid=1MECILXNL9J2U&keywords=mens+watches&qid=1694091819&sprefix=mens+watches%2Caps%2C104&sr=8-37', 'https://www.amazon.in/Fossil-Bronson-Analog-Cream-Watch-FS5919/dp/B0B25795NS/ref=sr_1_38?crid=1MECILXNL9J2U&keywords=mens+watches&qid=1694091819&sprefix=mens+watches%2Caps%2C104&sr=8-38', 'https://www.amazon.in/Fastrack-Smartwatch-Ultravu-Brightness-Watchfaces/dp/B0BRSPMSXD/ref=sr_1_39?crid=1MECILXNL9J2U&keywords=mens+watches&qid=1694091819&sprefix=mens+watches%2Caps%2C104&sr=8-39', 'https://www.amazon.in/V2A-Chronograph-Analogue-Digital-Sports/dp/B08XJKVMZB/ref=sr_1_40?crid=1MECILXNL9J2U&keywords=mens+watches&qid=1694091819&sprefix=mens+watches%2Caps%2C104&sr=8-40', 'https://www.amazon.in/Fastrack-Tees-Analog-Unisex-Adult-Watch-68011PP08/dp/B099WR4WHC/ref=sr_1_41?crid=1MECILXNL9J2U&keywords=mens+watches&qid=1694091819&sprefix=mens+watches%2Caps%2C104&sr=8-41', 'https://www.amazon.in/Sylvi-Business-Party-Wear-Leather-Chronograph/dp/B0BS6MMLMC/ref=sr_1_42?crid=1MECILXNL9J2U&keywords=mens+watches&qid=1694091819&sprefix=mens+watches%2Caps%2C104&sr=8-42', 'https://www.amazon.in/TIMEX-Analog-Green-Dial-Watch-TWHG03SMU25/dp/B0C1SZQBZ1/ref=sr_1_43?crid=1MECILXNL9J2U&keywords=mens+watches&qid=1694091819&sprefix=mens+watches%2Caps%2C104&sr=8-43', 'https://www.amazon.in/Casio-Analog-Blue-Dial-Watch-EFV-550D-2AVUDF/dp/B07GC92QXM/ref=sr_1_44?crid=1MECILXNL9J2U&keywords=mens+watches&qid=1694091819&sprefix=mens+watches%2Caps%2C104&sr=8-44', 'https://www.amazon.in/TIMEWEAR-Analog-Number-Functioning-Leather/dp/B0BJF1GF29/ref=sr_1_45?crid=1MECILXNL9J2U&keywords=mens+watches&qid=1694091819&sprefix=mens+watches%2Caps%2C104&sr=8-45', 'https://www.amazon.in/Fossil-Chronograph-Silver-Dial-Watch-CH2882/dp/B00DUCIK7U/ref=sr_1_46?crid=1MECILXNL9J2U&keywords=mens+watches&qid=1694091819&sprefix=mens+watches%2Caps%2C104&sr=8-46', 'https://www.amazon.in/boAt-Ultima-Call-Max-Sedentary/dp/B0C4679XYB/ref=sr_1_47?crid=1MECILXNL9J2U&keywords=mens+watches&qid=1694091819&sprefix=mens+watches%2Caps%2C104&sr=8-47', 'https://www.amazon.in/Swadesi-Rosegold-Chronograph-Luxury-Quartz/dp/B09ZYBB6W6/ref=sr_1_48?crid=1MECILXNL9J2U&keywords=mens+watches&qid=1694091819&sprefix=mens+watches%2Caps%2C104&sr=8-48', 'https://www.amazon.in/Matrix-Antique-Collection-Analog-Wrist/dp/B09T9HHRQ9/ref=sr_1_49?crid=1MECILXNL9J2U&keywords=mens+watches&qid=1694091819&sprefix=mens+watches%2Caps%2C104&sr=8-49', 'https://www.amazon.in/Noise-Bluetooth-Calling-Tracking-Detection/dp/B0B5LT655H/ref=sr_1_50?crid=1MECILXNL9J2U&keywords=mens+watches&qid=1694091819&sprefix=mens+watches%2Caps%2C104&sr=8-50', 'https://www.amazon.in/Titan-Karishma-Analog-Black-Watch-NK1639SM02/dp/B00ISNVQMW/ref=sr_1_51?crid=1MECILXNL9J2U&keywords=mens+watches&qid=1694091819&sprefix=mens+watches%2Caps%2C104&sr=8-51', 'https://www.amazon.in/Matrix-Black-Functioning-Stainless-Analog/dp/B0BNHD7MM3/ref=sr_1_52?crid=1MECILXNL9J2U&keywords=mens+watches&qid=1694091819&sprefix=mens+watches%2Caps%2C104&sr=8-52', 'https://www.amazon.in/Noise-Launched-Bluetooth-Assistance-Metallic/dp/B0BW4DN9LP/ref=sr_1_53?crid=1MECILXNL9J2U&keywords=mens+watches&qid=1694091819&sprefix=mens+watches%2Caps%2C104&sr=8-53', 'https://www.amazon.in/Business-Party-Wear-Silicone-Chronograph-Display/dp/B084261V7Z/ref=sr_1_54?crid=1MECILXNL9J2U&keywords=mens+watches&qid=1694091819&sprefix=mens+watches%2Caps%2C104&sr=8-54', 'https://www.amazon.in/Sylvi-Imperial-Water-Resistant-Luxurious-Black-Rosegold/dp/B0CBWT58JH/ref=sr_1_55?crid=1MECILXNL9J2U&keywords=mens+watches&qid=1694091819&sprefix=mens+watches%2Caps%2C104&sr=8-55', 'https://www.amazon.in/Fastrack-Analog-White-Unisex-Adult-Watch-68011PP04/dp/B099WR24X2/ref=sr_1_56?crid=1MECILXNL9J2U&keywords=mens+watches&qid=1694091819&sprefix=mens+watches%2Caps%2C104&sr=8-56', 'https://www.amazon.in/sspa/click?ie=UTF8&spc=MTo4MDAxOTgwNDcxNDk1NjE0OjE2OTQwOTE4MTk6c3BfYnRmOjIwMTUyMTg1MjE4MDk4OjowOjo&url=%2FTIMEX-Classics-Collection-Analog-Coloured%2Fdp%2FB0BYZCB1K5%2Fref%3Dsr_1_57_sspa%3Fcrid%3D1MECILXNL9J2U%26keywords%3Dmens%2Bwatches%26qid%3D1694091819%26sprefix%3Dmens%2Bwatches%252Caps%252C104%26sr%3D8-57-spons%26sp_csd%3Dd2lkZ2V0TmFtZT1zcF9idGY%26psc%3D1', 'https://www.amazon.in/sspa/click?ie=UTF8&spc=MTo4MDAxOTgwNDcxNDk1NjE0OjE2OTQwOTE4MTk6c3BfYnRmOjIwMTQ1NDg0MzAzNDk4OjowOjo&url=%2FFossil-Heritage-Analog-Rose-Watch-ME3243%2Fdp%2FB0BVYT2Y5G%2Fref%3Dsr_1_58_sspa%3Fcrid%3D1MECILXNL9J2U%26keywords%3Dmens%2Bwatches%26qid%3D1694091819%26sprefix%3Dmens%2Bwatches%252Caps%252C104%26sr%3D8-58-spons%26sp_csd%3Dd2lkZ2V0TmFtZT1zcF9idGY%26psc%3D1', 'https://www.amazon.in/sspa/click?ie=UTF8&spc=MTo4MDAxOTgwNDcxNDk1NjE0OjE2OTQwOTE4MTk6c3BfYnRmOjIwMTUyMTE2MTYwNDk4OjowOjo&url=%2FTimex-Analog-Black-Dial-Watch-TWTG31SMU04%2Fdp%2FB09W2CGN2V%2Fref%3Dsr_1_59_sspa%3Fcrid%3D1MECILXNL9J2U%26keywords%3Dmens%2Bwatches%26qid%3D1694091819%26sprefix%3Dmens%2Bwatches%252Caps%252C104%26sr%3D8-59-spons%26sp_csd%3Dd2lkZ2V0TmFtZT1zcF9idGY%26psc%3D1', 'https://www.amazon.in/sspa/click?ie=UTF8&spc=MTo4MDAxOTgwNDcxNDk1NjE0OjE2OTQwOTE4MTk6c3BfYnRmOjMwMDAyNDkyNTE5MDkzMjo6MDo6&url=%2FTimex-Fashion-Analog-Multi-Color-Watch-TI000U90000%2Fdp%2FB00IMWF7AG%2Fref%3Dsr_1_60_sspa%3Fcrid%3D1MECILXNL9J2U%26keywords%3Dmens%2Bwatches%26qid%3D1694091819%26sprefix%3Dmens%2Bwatches%252Caps%252C104%26sr%3D8-60-spons%26sp_csd%3Dd2lkZ2V0TmFtZT1zcF9idGY%26psc%3D1', 'https://aax-eu.amazon.in/x/c/RO5_aswPx2Vg38cJ6QOUI1wAAAGKb724MwMAAAH2AQBvbm9fdHhuX2JpZDMgICBvbm9fdHhuX2ltcDEgICDFDjhX/https://www.amazon.in/NIBOSI-Stainless-Waterproof-Business-Calendar/dp/B0C1Z6P53R/ref=sxbs_sbv_search_btf?content-id=amzn1.sym.71f3e964-c052-406d-85d3-3536a795e6d0%3Aamzn1.sym.71f3e964-c052-406d-85d3-3536a795e6d0&crid=1MECILXNL9J2U&cv_ct_cx=mens+watches&keywords=mens+watches&pd_rd_i=B0C1Z6P53R&pd_rd_r=ad9950fc-5224-4f26-ab7d-f14a0d7e49c0&pd_rd_w=ECpD1&pd_rd_wg=eOFNG&pf_rd_p=71f3e964-c052-406d-85d3-3536a795e6d0&pf_rd_r=REZA88XA0GENC04J8W4J&qid=1694091819&sbo=RZvfv%2F%2FHxDF%2BO5021pAnSA%3D%3D&sprefix=mens+watches%2Caps%2C104&sr=1-1-f1821008-9dea-4812-b2b6-4a6e4a4f2d55', 'https://www.amazon.in/sspa/click?ie=UTF8&spc=MTo3NjMxMjE1MzM4NTQ3NjE0OjE2OTQwOTE4Mzc6c3BfYXRmX25leHQ6MzAwMDI0OTI1MTkxMTMyOjowOjo&url=%2FTimex-Analog-Black-Dial-Watch-TW0TG6504%2Fdp%2FB07B92NJ7V%2Fref%3Dsr_1_49_sspa%3Fcrid%3D1MECILXNL9J2U%26keywords%3Dmens%2Bwatches%26qid%3D1694091837%26sprefix%3Dmens%2Bwatches%252Caps%252C104%26sr%3D8-49-spons%26sp_csd%3Dd2lkZ2V0TmFtZT1zcF9hdGZfbmV4dA%26psc%3D1', 'https://www.amazon.in/sspa/click?ie=UTF8&spc=MTo3NjMxMjE1MzM4NTQ3NjE0OjE2OTQwOTE4Mzc6c3BfYXRmX25leHQ6MjAxNDU0ODQzMDI5OTg6OjA6Og&url=%2FFossil-Defender-Analog-Blue-Watch-FS5975%2Fdp%2FB0BR5HRCFT%2Fref%3Dsr_1_50_sspa%3Fcrid%3D1MECILXNL9J2U%26keywords%3Dmens%2Bwatches%26qid%3D1694091837%26sprefix%3Dmens%2Bwatches%252Caps%252C104%26sr%3D8-50-spons%26sp_csd%3Dd2lkZ2V0TmFtZT1zcF9hdGZfbmV4dA%26psc%3D1', 'https://www.amazon.in/sspa/click?ie=UTF8&spc=MTo3NjMxMjE1MzM4NTQ3NjE0OjE2OTQwOTE4Mzc6c3BfYXRmX25leHQ6MjAxNDEwNzUwNTI3OTg6OjA6Og&url=%2FTIMEX-A301%2Fdp%2FB007R9Y8Y6%2Fref%3Dsr_1_51_sspa%3Fcrid%3D1MECILXNL9J2U%26keywords%3Dmens%2Bwatches%26qid%3D1694091837%26sprefix%3Dmens%2Bwatches%252Caps%252C104%26sr%3D8-51-spons%26sp_csd%3Dd2lkZ2V0TmFtZT1zcF9hdGZfbmV4dA%26psc%3D1', 'https://www.amazon.in/sspa/click?ie=UTF8&spc=MTo3NjMxMjE1MzM4NTQ3NjE0OjE2OTQwOTE4Mzc6c3BfYXRmX25leHQ6MzAwMDI0OTI1MTkxNzMyOjowOjo&url=%2FTimex-Ceramic-Bracelet-Analogue-Watch%2Fdp%2FB09V1K2ZD7%2Fref%3Dsr_1_52_sspa%3Fcrid%3D1MECILXNL9J2U%26keywords%3Dmens%2Bwatches%26qid%3D1694091837%26sprefix%3Dmens%2Bwatches%252Caps%252C104%26sr%3D8-52-spons%26sp_csd%3Dd2lkZ2V0TmFtZT1zcF9hdGZfbmV4dA%26psc%3D1', 'https://www.amazon.in/Fossil-Smartwatch-silicone-Bluetooth-calling/dp/B08FX4382S/ref=sr_1_53?crid=1MECILXNL9J2U&keywords=mens+watches&qid=1694091837&sprefix=mens+watches%2Caps%2C104&sr=8-53', 'https://www.amazon.in/PAPIO-Analog-Watch-Black-Color/dp/B09SWZMC6W/ref=sr_1_54?crid=1MECILXNL9J2U&keywords=mens+watches&qid=1694091837&sprefix=mens+watches%2Caps%2C104&sr=8-54', 'https://www.amazon.in/Timex-Analog-Silver-Dial-Watch-TW0TG6505/dp/B07B9KFM2X/ref=sr_1_55?crid=1MECILXNL9J2U&keywords=mens+watches&qid=1694091837&sprefix=mens+watches%2Caps%2C104&sr=8-55', 'https://www.amazon.in/Timex-Analog-Black-Dial-Watch-TW000U914/dp/B073P9FRS2/ref=sr_1_56?crid=1MECILXNL9J2U&keywords=mens+watches&qid=1694091837&sprefix=mens+watches%2Caps%2C104&sr=8-56', 'https://www.amazon.in/Acnos%C2%AE-Premium-Analog-Multi-Colour-COMBO-01-02-MINO/dp/B07HND1JD1/ref=sr_1_57?crid=1MECILXNL9J2U&keywords=mens+watches&qid=1694091837&sprefix=mens+watches%2Caps%2C104&sr=8-57', 'https://www.amazon.in/TIMEWEAR-Analog-Number-Functioning-Silicone/dp/B0CB4D8W5Y/ref=sr_1_58?crid=1MECILXNL9J2U&keywords=mens+watches&qid=1694091837&sprefix=mens+watches%2Caps%2C104&sr=8-58', 'https://www.amazon.in/Timewear-Military-Analogue-Digital-Sports/dp/B07PJXJKJS/ref=sr_1_59?crid=1MECILXNL9J2U&keywords=mens+watches&qid=1694091837&sprefix=mens+watches%2Caps%2C104&sr=8-59', 'https://www.amazon.in/Noise-Bluetooth-Calling-Tracking-Detection/dp/B0B5LVS732/ref=sr_1_60?crid=1MECILXNL9J2U&keywords=mens+watches&qid=1694091837&sprefix=mens+watches%2Caps%2C104&sr=8-60', 'https://www.amazon.in/Michael-Kors-Mens-MK8576-Runway/dp/B06XJNM54R/ref=sr_1_61?crid=1MECILXNL9J2U&keywords=mens+watches&qid=1694091837&sprefix=mens+watches%2Caps%2C104&sr=8-61', 'https://www.amazon.in/Swadesi-Stuff-Leather-Stylish-Analog/dp/B09B5ZT87Q/ref=sr_1_62?crid=1MECILXNL9J2U&keywords=mens+watches&qid=1694091837&sprefix=mens+watches%2Caps%2C104&sr=8-62', 'https://www.amazon.in/Matrix-Vintage-Digital-Unisex-Silver/dp/B0BZYKSVWB/ref=sr_1_63?crid=1MECILXNL9J2U&keywords=mens+watches&qid=1694091837&sprefix=mens+watches%2Caps%2C104&sr=8-63', 'https://www.amazon.in/BENYAR-Movement-Waterproof-Resistant-Chronograph/dp/B07W5HDYBJ/ref=sr_1_64?crid=1MECILXNL9J2U&keywords=mens+watches&qid=1694091837&sprefix=mens+watches%2Caps%2C104&sr=8-64', 'https://www.amazon.in/NIBOSI-Ultra-Thin-Waterproof-Chronograph-Stainless/dp/B0C243TKBM/ref=sr_1_65?crid=1MECILXNL9J2U&keywords=mens+watches&qid=1694091837&sprefix=mens+watches%2Caps%2C104&sr=8-65', 'https://www.amazon.in/Fire-Boltt-Bluetooth-Calling-Assistance-Monitoring/dp/B0B85414K1/ref=sr_1_66?crid=1MECILXNL9J2U&keywords=mens+watches&qid=1694091837&sprefix=mens+watches%2Caps%2C104&sr=8-66', 'https://www.amazon.in/Titan-Analog-Brown-Dial-Watch-NK1584SL04/dp/B0179FS6SG/ref=sr_1_67?crid=1MECILXNL9J2U&keywords=mens+watches&qid=1694091837&sprefix=mens+watches%2Caps%2C104&sr=8-67', 'https://www.amazon.in/Matrix-Signature-Leather-Analog-White-Brown/dp/B0BC3W9WZ2/ref=sr_1_68?crid=1MECILXNL9J2U&keywords=mens+watches&qid=1694091837&sprefix=mens+watches%2Caps%2C104&sr=8-68', 'https://www.amazon.in/sspa/click?ie=UTF8&spc=MTo3NjMxMjE1MzM4NTQ3NjE0OjE2OTQwOTE4Mzc6c3BfbXRmOjIwMTUyMTE2MTYwNTk4OjowOjo&url=%2FTimex-Analog-Black-Dial-Watch-TWHG03SMU13%2Fdp%2FB09W2D9P6J%2Fref%3Dsr_1_69_sspa%3Fcrid%3D1MECILXNL9J2U%26keywords%3Dmens%2Bwatches%26qid%3D1694091837%26sprefix%3Dmens%2Bwatches%252Caps%252C104%26sr%3D8-69-spons%26sp_csd%3Dd2lkZ2V0TmFtZT1zcF9tdGY%26psc%3D1', 'https://www.amazon.in/sspa/click?ie=UTF8&spc=MTo3NjMxMjE1MzM4NTQ3NjE0OjE2OTQwOTE4Mzc6c3BfbXRmOjIwMTUyMTg1MjE3ODk4OjowOjo&url=%2FTIMEX-Analog-Blue-Dial-Watch-TWEG21703%2Fdp%2FB0BW75Q1J5%2Fref%3Dsr_1_70_sspa%3Fcrid%3D1MECILXNL9J2U%26keywords%3Dmens%2Bwatches%26qid%3D1694091837%26sprefix%3Dmens%2Bwatches%252Caps%252C104%26sr%3D8-70-spons%26sp_csd%3Dd2lkZ2V0TmFtZT1zcF9tdGY%26psc%3D1', 'https://www.amazon.in/sspa/click?ie=UTF8&spc=MTo3NjMxMjE1MzM4NTQ3NjE0OjE2OTQwOTE4Mzc6c3BfbXRmOjIwMTQ5ODY0NzM5Nzk4OjowOjo&url=%2FV2A-Adventure-Chronograph-Digital-Waterproof%2Fdp%2FB09ZDZ765V%2Fref%3Dsr_1_71_sspa%3Fcrid%3D1MECILXNL9J2U%26keywords%3Dmens%2Bwatches%26qid%3D1694091837%26sprefix%3Dmens%2Bwatches%252Caps%252C104%26sr%3D8-71-spons%26sp_csd%3Dd2lkZ2V0TmFtZT1zcF9tdGY%26psc%3D1', 'https://www.amazon.in/sspa/click?ie=UTF8&spc=MTo3NjMxMjE1MzM4NTQ3NjE0OjE2OTQwOTE4Mzc6c3BfbXRmOjMwMDAyNDQzNTk5NTUzMjo6MDo6&url=%2FTimex-Analog-Blue-Dial-Watch-TWHG35SMU06%2Fdp%2FB09W2D2K9R%2Fref%3Dsr_1_72_sspa%3Fcrid%3D1MECILXNL9J2U%26keywords%3Dmens%2Bwatches%26qid%3D1694091837%26sprefix%3Dmens%2Bwatches%252Caps%252C104%26sr%3D8-72-spons%26sp_csd%3Dd2lkZ2V0TmFtZT1zcF9tdGY%26psc%3D1', 'https://www.amazon.in/Fastrack-Limitless-Brightness-SingleSync-Watchfaces/dp/B0C5XRT7XY/ref=sr_1_73?crid=1MECILXNL9J2U&keywords=mens+watches&qid=1694091837&sprefix=mens+watches%2Caps%2C104&sr=8-73', 'https://www.amazon.in/Titan-Karishma-Analog-Silver-Watch-1774BM01/dp/B07CQ2DBSN/ref=sr_1_74?crid=1MECILXNL9J2U&keywords=mens+watches&qid=1694091837&sprefix=mens+watches%2Caps%2C104&sr=8-74', 'https://www.amazon.in/Fossil-Grant-Chronograph-Blue-Watch-FS5151/dp/B017SN1OI8/ref=sr_1_75?crid=1MECILXNL9J2U&keywords=mens+watches&qid=1694091837&sprefix=mens+watches%2Caps%2C104&sr=8-75', 'https://www.amazon.in/RUSTET-Analogue-Digital-Multi-Function-Chronograph-Sports/dp/B0863NSCTX/ref=sr_1_76?crid=1MECILXNL9J2U&keywords=mens+watches&qid=1694091837&sprefix=mens+watches%2Caps%2C104&sr=8-76', 'https://www.amazon.in/Titan-Analog-Blue-Dial-Watch-1733KL03/dp/B075P5L5D4/ref=sr_1_77?crid=1MECILXNL9J2U&keywords=mens+watches&qid=1694091837&sprefix=mens+watches%2Caps%2C104&sr=8-77', 'https://www.amazon.in/IIK-COLLECTION-Designer-Bracelet-Analogue/dp/B0B3HYTGK8/ref=sr_1_78?crid=1MECILXNL9J2U&keywords=mens+watches&qid=1694091837&sprefix=mens+watches%2Caps%2C104&sr=8-78', 'https://www.amazon.in/LOUIS-DEVIN-Analog-Silver-Colored/dp/B07G5XQN9D/ref=sr_1_79?crid=1MECILXNL9J2U&keywords=mens+watches&qid=1694091837&sprefix=mens+watches%2Caps%2C104&sr=8-79', 'https://www.amazon.in/Noise-Bluetooth-Resolution-Smartwatch-Champagne/dp/B09NBZJ8NJ/ref=sr_1_80?crid=1MECILXNL9J2U&keywords=mens+watches&qid=1694091837&sprefix=mens+watches%2Caps%2C104&sr=8-80', 'https://www.amazon.in/SKMEI-Waterproof-Multifunction-Stopwatch-Countdown/dp/B0733GM3CK/ref=sr_1_81?crid=1MECILXNL9J2U&keywords=mens+watches&qid=1694091837&sprefix=mens+watches%2Caps%2C104&sr=8-81', 'https://www.amazon.in/Benyar-Business-Casual-Stainless-Display/dp/B09GRRHKKT/ref=sr_1_82?crid=1MECILXNL9J2U&keywords=mens+watches&qid=1694091837&sprefix=mens+watches%2Caps%2C104&sr=8-82', 'https://www.amazon.in/Swisstyle-Analog-Digital-Brown-Dial-Watch-SS-GR089-BRW-BLK/dp/B07MBSMP7V/ref=sr_1_83?crid=1MECILXNL9J2U&keywords=mens+watches&qid=1694091837&sprefix=mens+watches%2Caps%2C104&sr=8-83', 'https://www.amazon.in/Fastrack-Analog-Black-Watch-3229SP02/dp/B08VJLWDDJ/ref=sr_1_84?crid=1MECILXNL9J2U&keywords=mens+watches&qid=1694091837&sprefix=mens+watches%2Caps%2C104&sr=8-84', 'https://www.amazon.in/Sonata-Super-Fibre-Digital-Watch-NH77043PP04/dp/B00V6BIMUM/ref=sr_1_85?crid=1MECILXNL9J2U&keywords=mens+watches&qid=1694091837&sprefix=mens+watches%2Caps%2C104&sr=8-85', 'https://www.amazon.in/Shocknshop-Analog-Digital-Functional-SK1155/dp/B09SQ6GC2F/ref=sr_1_86?crid=1MECILXNL9J2U&keywords=mens+watches&qid=1694091837&sprefix=mens+watches%2Caps%2C104&sr=8-86', 'https://www.amazon.in/BENYAR-Chronograph-Waterproof-Watches-Business/dp/B07LCC5FP8/ref=sr_1_87?crid=1MECILXNL9J2U&keywords=mens+watches&qid=1694091837&sprefix=mens+watches%2Caps%2C104&sr=8-87', 'https://www.amazon.in/RUSTET-Analogue-Colored-BRW385-Multicolour/dp/B08MTJZL49/ref=sr_1_88?crid=1MECILXNL9J2U&keywords=mens+watches&qid=1694091837&sprefix=mens+watches%2Caps%2C104&sr=8-88', 'https://www.amazon.in/Sonata-Super-Fibre-Digital-Watch-NH77043PP02/dp/B00V6BIH5M/ref=sr_1_89?crid=1MECILXNL9J2U&keywords=mens+watches&qid=1694091837&sprefix=mens+watches%2Caps%2C104&sr=8-89', 'https://www.amazon.in/Fastrack-Limitless-Biggest-SingleSync-Watchfaces/dp/B0C1N1KXHH/ref=sr_1_90?crid=1MECILXNL9J2U&keywords=mens+watches&qid=1694091837&sprefix=mens+watches%2Caps%2C104&sr=8-90', 'https://www.amazon.in/Acnos%C2%AE-Premium-Digital-Vintage-WR-Black/dp/B0BZHXC871/ref=sr_1_91?crid=1MECILXNL9J2U&keywords=mens+watches&qid=1694091837&sprefix=mens+watches%2Caps%2C104&sr=8-91', 'https://www.amazon.in/Casio-Analog-White-Watch-MTP-V300L-7AUDF-A1177/dp/B01MFG732O/ref=sr_1_92?crid=1MECILXNL9J2U&keywords=mens+watches&qid=1694091837&sprefix=mens+watches%2Caps%2C104&sr=8-92', 'https://www.amazon.in/Sonata-Analog-White-Dial-Watch-NK7954YM01/dp/B00HPSPBX6/ref=sr_1_93?crid=1MECILXNL9J2U&keywords=mens+watches&qid=1694091837&sprefix=mens+watches%2Caps%2C104&sr=8-93', 'https://www.amazon.in/Titan-Analog-Green-Dial-Watch-1802NL02/dp/B08JM33QNK/ref=sr_1_94?crid=1MECILXNL9J2U&keywords=mens+watches&qid=1694091837&sprefix=mens+watches%2Caps%2C104&sr=8-94', 'https://www.amazon.in/Casio-Analog-Black-Dial-Watch-MTP-V005D-1B5UDF/dp/B09B9ZPJYR/ref=sr_1_95?crid=1MECILXNL9J2U&keywords=mens+watches&qid=1694091837&sprefix=mens+watches%2Caps%2C104&sr=8-95', 'https://www.amazon.in/Carlington-Analog-Wrist-Leather-Brown-Black/dp/B09J18YL1S/ref=sr_1_96?crid=1MECILXNL9J2U&keywords=mens+watches&qid=1694091837&sprefix=mens+watches%2Caps%2C104&sr=8-96', 'https://www.amazon.in/NAVIFORCE-Watches-Waterproof-Multifunctional-Military/dp/B09JYZPZJ1/ref=sr_1_97?crid=1MECILXNL9J2U&keywords=mens+watches&qid=1694091837&sprefix=mens+watches%2Caps%2C104&sr=8-97', 'https://www.amazon.in/Noise-ColorFit-Bluetooth-Resolution-Smartwatch/dp/B09NC1FX43/ref=sr_1_98?crid=1MECILXNL9J2U&keywords=mens+watches&qid=1694091837&sprefix=mens+watches%2Caps%2C104&sr=8-98', 'https://www.amazon.in/Timex-Analog-Black-Dial-Watch-TW0TG6504/dp/B07B92NJ7V/ref=sr_1_99?crid=1MECILXNL9J2U&keywords=mens+watches&qid=1694091837&sprefix=mens+watches%2Caps%2C104&sr=8-99', 'https://www.amazon.in/Sonata-Analog-Gold-Watch-NK7987YM06W/dp/B00GSJ5L3S/ref=sr_1_100?crid=1MECILXNL9J2U&keywords=mens+watches&qid=1694091837&sprefix=mens+watches%2Caps%2C104&sr=8-100', 'https://www.amazon.in/Acnos-Brand-Shockproof-Multi-Functional-Waterproof/dp/B095YWP668/ref=sr_1_101?crid=1MECILXNL9J2U&keywords=mens+watches&qid=1694091837&sprefix=mens+watches%2Caps%2C104&sr=8-101', 'https://www.amazon.in/Fossil-Decker-Chronograph-Black-Watch-CH2885/dp/B00EVZ83J0/ref=sr_1_102?crid=1MECILXNL9J2U&keywords=mens+watches&qid=1694091837&sprefix=mens+watches%2Caps%2C104&sr=8-102', 'https://www.amazon.in/Fastrack-Analog-Silver-Dial-Watch-3291SM02/dp/B0BHTJ3HVY/ref=sr_1_103?crid=1MECILXNL9J2U&keywords=mens+watches&qid=1694091837&sprefix=mens+watches%2Caps%2C104&sr=8-103', 'https://www.amazon.in/Sonata-Super-Fibre-Analog-Watch-NJ7920PP13C/dp/B00MTLD5Y6/ref=sr_1_104?crid=1MECILXNL9J2U&keywords=mens+watches&qid=1694091837&sprefix=mens+watches%2Caps%2C104&sr=8-104', 'https://www.amazon.in/sspa/click?ie=UTF8&spc=MTo3NjMxMjE1MzM4NTQ3NjE0OjE2OTQwOTE4Mzc6c3BfYnRmOjIwMDg0Nzg3ODQ3MjA3OjowOjo&url=%2FBENYAR-Genuine-Movement-Waterproof-Chronograph%2Fdp%2FB09JGM4Y8F%2Fref%3Dsr_1_105_sspa%3Fcrid%3D1MECILXNL9J2U%26keywords%3Dmens%2Bwatches%26qid%3D1694091837%26sprefix%3Dmens%2Bwatches%252Caps%252C104%26sr%3D8-105-spons%26sp_csd%3Dd2lkZ2V0TmFtZT1zcF9idGY%26psc%3D1', 'https://www.amazon.in/sspa/click?ie=UTF8&spc=MTo3NjMxMjE1MzM4NTQ3NjE0OjE2OTQwOTE4Mzc6c3BfYnRmOjIwMDE1NzA4Nzk0NDk4OjowOjo&url=%2FTIMEWEAR-Functioning-White-Chain-Watch%2Fdp%2FB07MDGSP8F%2Fref%3Dsr_1_106_sspa%3Fcrid%3D1MECILXNL9J2U%26keywords%3Dmens%2Bwatches%26qid%3D1694091837%26sprefix%3Dmens%2Bwatches%252Caps%252C104%26sr%3D8-106-spons%26sp_csd%3Dd2lkZ2V0TmFtZT1zcF9idGY%26psc%3D1', 'https://www.amazon.in/sspa/click?ie=UTF8&spc=MTo3NjMxMjE1MzM4NTQ3NjE0OjE2OTQwOTE4Mzc6c3BfYnRmOjIwMDcxNDgzNTU2NTA1OjowOjo&url=%2FTIMEWEAR-Hands-Brown-Leather-Strap%2Fdp%2FB099X7HM4Z%2Fref%3Dsr_1_107_sspa%3Fcrid%3D1MECILXNL9J2U%26keywords%3Dmens%2Bwatches%26qid%3D1694091837%26sprefix%3Dmens%2Bwatches%252Caps%252C104%26sr%3D8-107-spons%26sp_csd%3Dd2lkZ2V0TmFtZT1zcF9idGY%26psc%3D1', 'https://www.amazon.in/sspa/click?ie=UTF8&spc=MTo3NjMxMjE1MzM4NTQ3NjE0OjE2OTQwOTE4Mzc6c3BfYnRmOjMwMDAwNTczNTA1MDIzMjo6MDo6&url=%2FNIBOSI-Minimalist-Business-Chronograph-Stainless%2Fdp%2FB0C58HJTW5%2Fref%3Dsr_1_108_sspa%3Fcrid%3D1MECILXNL9J2U%26keywords%3Dmens%2Bwatches%26qid%3D1694091837%26sprefix%3Dmens%2Bwatches%252Caps%252C104%26sr%3D8-108-spons%26sp_csd%3Dd2lkZ2V0TmFtZT1zcF9idGY%26psc%3D1', 'https://aax-eu.amazon.in/x/c/RBV9lsqjSXFRTl-rHAJQwsUAAAGKb74AvAMAAAH2AQBvbm9fdHhuX2JpZDMgICBvbm9fdHhuX2ltcDEgICCzSyN8/https://www.amazon.in/TIMEX-Strength-Collection-Digital-Coloured/dp/B0BYD99VL3/ref=sxbs_sbv_search_btf?content-id=amzn1.sym.880c6186-3832-495e-9caa-7ecfb2f5e88c%3Aamzn1.sym.880c6186-3832-495e-9caa-7ecfb2f5e88c&crid=1MECILXNL9J2U&cv_ct_cx=mens+watches&keywords=mens+watches&pd_rd_i=B0BYD99VL3&pd_rd_r=f8d51750-ea6c-4ef8-93f8-2ac842f01046&pd_rd_w=o0iqU&pd_rd_wg=aMr9X&pf_rd_p=880c6186-3832-495e-9caa-7ecfb2f5e88c&pf_rd_r=YM6MZFA3BK1C08Z1SBH2&qid=1694091837&sbo=RZvfv%2F%2FHxDF%2BO5021pAnSA%3D%3D&sprefix=mens+watches%2Caps%2C104&sr=1-49-06195d41-65bd-48f4-8e70-03d97b6094ec', 'https://www.amazon.in/sspa/click?ie=UTF8&spc=MToxNjY0NTk1MDgxODM2NjE0OjE2OTQwOTE4NDE6c3BfYXRmX25leHQ6MjAxNDEwNzUwNDY1OTg6OjA6Og&url=%2FTimex-Analog-Black-Dial-Watch-TW000U914%2Fdp%2FB073P9FRS2%2Fref%3Dsr_1_97_sspa%3Fcrid%3D1MECILXNL9J2U%26keywords%3Dmens%2Bwatches%26qid%3D1694091841%26sprefix%3Dmens%2Bwatches%252Caps%252C104%26sr%3D8-97-spons%26sp_csd%3Dd2lkZ2V0TmFtZT1zcF9hdGZfbmV4dA%26psc%3D1', 'https://www.amazon.in/sspa/click?ie=UTF8&spc=MToxNjY0NTk1MDgxODM2NjE0OjE2OTQwOTE4NDE6c3BfYXRmX25leHQ6MjAxNDEwNzUwNTI0OTg6OjA6Og&url=%2FTimex-Analog-Black-Dial-Watch-TW000U913%2Fdp%2FB073P8RCBJ%2Fref%3Dsr_1_98_sspa%3Fcrid%3D1MECILXNL9J2U%26keywords%3Dmens%2Bwatches%26qid%3D1694091841%26sprefix%3Dmens%2Bwatches%252Caps%252C104%26sr%3D8-98-spons%26sp_csd%3Dd2lkZ2V0TmFtZT1zcF9hdGZfbmV4dA%26psc%3D1', 'https://www.amazon.in/sspa/click?ie=UTF8&spc=MToxNjY0NTk1MDgxODM2NjE0OjE2OTQwOTE4NDE6c3BfYXRmX25leHQ6MzAwMDI0OTI1MTkxMDMyOjowOjo&url=%2FTimex-Analog-Blue-Dial-Watch-TW000T310%2Fdp%2FB07B9KHJF2%2Fref%3Dsr_1_99_sspa%3Fcrid%3D1MECILXNL9J2U%26keywords%3Dmens%2Bwatches%26qid%3D1694091841%26sprefix%3Dmens%2Bwatches%252Caps%252C104%26sr%3D8-99-spons%26sp_csd%3Dd2lkZ2V0TmFtZT1zcF9hdGZfbmV4dA%26psc%3D1', 'https://www.amazon.in/sspa/click?ie=UTF8&spc=MToxNjY0NTk1MDgxODM2NjE0OjE2OTQwOTE4NDE6c3BfYXRmX25leHQ6MzAwMDI0OTI1MTk1NjMyOjowOjo&url=%2FTimex-Analog-Silver-Dial-Watch-TW0TG6505%2Fdp%2FB07B9KFM2X%2Fref%3Dsr_1_100_sspa%3Fcrid%3D1MECILXNL9J2U%26keywords%3Dmens%2Bwatches%26qid%3D1694091841%26sprefix%3Dmens%2Bwatches%252Caps%252C104%26sr%3D8-100-spons%26sp_csd%3Dd2lkZ2V0TmFtZT1zcF9hdGZfbmV4dA%26psc%3D1', 'https://www.amazon.in/Titan-Analog-Blue-Dial-Watch-1734KM02/dp/B0769L2TZM/ref=sr_1_101?crid=1MECILXNL9J2U&keywords=mens+watches&qid=1694091841&sprefix=mens+watches%2Caps%2C104&sr=8-101', 'https://www.amazon.in/Sonata-Analog-White-Dial-Watch-NJ7987SM03W/dp/B00HPSP9UQ/ref=sr_1_102?crid=1MECILXNL9J2U&keywords=mens+watches&qid=1694091841&sprefix=mens+watches%2Caps%2C104&sr=8-102', 'https://www.amazon.in/Sonata-Super-Fibre-Analog-Watch-NJ7920PP13C/dp/B00MTLD5Y6/ref=sr_1_103?crid=1MECILXNL9J2U&keywords=mens+watches&qid=1694091841&sprefix=mens+watches%2Caps%2C104&sr=8-103', 'https://www.amazon.in/TIMEX-Multifunction-Analog-Coloured-Quartz/dp/B0C1T16PGW/ref=sr_1_104?crid=1MECILXNL9J2U&keywords=mens+watches&qid=1694091841&sprefix=mens+watches%2Caps%2C104&sr=8-104', 'https://www.amazon.in/Fastrack-Analog-Black-Dial-Watch-NK3147KM01/dp/B01GDWNV86/ref=sr_1_105?crid=1MECILXNL9J2U&keywords=mens+watches&qid=1694091841&sprefix=mens+watches%2Caps%2C104&sr=8-105', 'https://www.amazon.in/Fastrack-Analog-Silver-Dial-Watch-3290SM01/dp/B0BHTH2DSR/ref=sr_1_106?crid=1MECILXNL9J2U&keywords=mens+watches&qid=1694091841&sprefix=mens+watches%2Caps%2C104&sr=8-106', 'https://www.amazon.in/Swisstyle-Anolog-White-Dial-Watch-SS-GR223-WHT-BRW/dp/B077FVHPZJ/ref=sr_1_107?crid=1MECILXNL9J2U&keywords=mens+watches&qid=1694091841&sprefix=mens+watches%2Caps%2C104&sr=8-107', 'https://www.amazon.in/Armani-Exchange-Analog-Blue-Watch-AX2752/dp/B0BFYKM7N8/ref=sr_1_108?crid=1MECILXNL9J2U&keywords=mens+watches&qid=1694091841&sprefix=mens+watches%2Caps%2C104&sr=8-108', 'https://www.amazon.in/Fossil-Fenmore-Multifunction-Black-BQ2364/dp/B07R4P572S/ref=sr_1_109?crid=1MECILXNL9J2U&keywords=mens+watches&qid=1694091841&sprefix=mens+watches%2Caps%2C104&sr=8-109', 'https://www.amazon.in/Fossil-Sullivan-Analog-Black-Watch-BQ2457/dp/B07WN1X48N/ref=sr_1_110?crid=1MECILXNL9J2U&keywords=mens+watches&qid=1694091841&sprefix=mens+watches%2Caps%2C104&sr=8-110', 'https://www.amazon.in/Fastrack-Trendies-Analog-Black-Watch-38045PP03/dp/B079VTDT5G/ref=sr_1_111?crid=1MECILXNL9J2U&keywords=mens+watches&qid=1694091841&sprefix=mens+watches%2Caps%2C104&sr=8-111', 'https://www.amazon.in/Fossil-Analog-Black-Unisexs-Watch-JR1354/dp/B0066T2GAQ/ref=sr_1_112?crid=1MECILXNL9J2U&keywords=mens+watches&qid=1694091841&sprefix=mens+watches%2Caps%2C104&sr=8-112', 'https://www.amazon.in/Fastrack-Trendies-Analog-Black-Watch-38048PP01/dp/B079VV74QP/ref=sr_1_113?crid=1MECILXNL9J2U&keywords=mens+watches&qid=1694091841&sprefix=mens+watches%2Caps%2C104&sr=8-113', 'https://www.amazon.in/boAt-Advanced-Bluetooth-Functional-Assistance/dp/B0BQYQ8PB6/ref=sr_1_114?crid=1MECILXNL9J2U&keywords=mens+watches&qid=1694091841&sprefix=mens+watches%2Caps%2C104&sr=8-114', 'https://www.amazon.in/Casio-Edifice-Analog-Watch-EFR-556PC-2AVUDF-EX386/dp/B07BNK778Q/ref=sr_1_115?crid=1MECILXNL9J2U&keywords=mens+watches&qid=1694091841&sprefix=mens+watches%2Caps%2C104&sr=8-115', 'https://www.amazon.in/Timex-Analog-Brown-Dial-Watch-TW000U936/dp/B07BH4Y4QB/ref=sr_1_116?crid=1MECILXNL9J2U&keywords=mens+watches&qid=1694091841&sprefix=mens+watches%2Caps%2C104&sr=8-116', 'https://www.amazon.in/sspa/click?ie=UTF8&spc=MToxNjY0NTk1MDgxODM2NjE0OjE2OTQwOTE4NDE6c3BfbXRmOjMwMDAyNDQzNTk5NTMzMjo6MDo6&url=%2FTimex-Analog-Black-Dial-Watch-TWHG35SMU09%2Fdp%2FB09W2CW54C%2Fref%3Dsr_1_117_sspa%3Fcrid%3D1MECILXNL9J2U%26keywords%3Dmens%2Bwatches%26qid%3D1694091841%26sprefix%3Dmens%2Bwatches%252Caps%252C104%26sr%3D8-117-spons%26sp_csd%3Dd2lkZ2V0TmFtZT1zcF9tdGY%26psc%3D1', 'https://www.amazon.in/sspa/click?ie=UTF8&spc=MToxNjY0NTk1MDgxODM2NjE0OjE2OTQwOTE4NDE6c3BfbXRmOjIwMTQ1NDg0MzAzMDk4OjowOjo&url=%2FFossil-Defender-Analog-Black-Watch-FS5976%2Fdp%2FB0BQQ31V27%2Fref%3Dsr_1_118_sspa%3Fcrid%3D1MECILXNL9J2U%26keywords%3Dmens%2Bwatches%26qid%3D1694091841%26sprefix%3Dmens%2Bwatches%252Caps%252C104%26sr%3D8-118-spons%26sp_csd%3Dd2lkZ2V0TmFtZT1zcF9tdGY%26psc%3D1', 'https://www.amazon.in/sspa/click?ie=UTF8&spc=MToxNjY0NTk1MDgxODM2NjE0OjE2OTQwOTE4NDE6c3BfbXRmOjIwMTQxMDc1MDUxNDk4OjowOjo&url=%2FTimex-Analog-Black-Dial-Watch-TW000R438%2Fdp%2FB083JXS2YT%2Fref%3Dsr_1_119_sspa%3Fcrid%3D1MECILXNL9J2U%26keywords%3Dmens%2Bwatches%26qid%3D1694091841%26sprefix%3Dmens%2Bwatches%252Caps%252C104%26sr%3D8-119-spons%26sp_csd%3Dd2lkZ2V0TmFtZT1zcF9tdGY%26psc%3D1', 'https://www.amazon.in/sspa/click?ie=UTF8&spc=MToxNjY0NTk1MDgxODM2NjE0OjE2OTQwOTE4NDE6c3BfbXRmOjIwMDkzOTk1MDc5NTk4OjowOjo&url=%2FTIMEWEAR-Timewear-Formal-Collection-Colored%2Fdp%2FB0BK1HSVW6%2Fref%3Dsr_1_120_sspa%3Fcrid%3D1MECILXNL9J2U%26keywords%3Dmens%2Bwatches%26qid%3D1694091841%26sprefix%3Dmens%2Bwatches%252Caps%252C104%26sr%3D8-120-spons%26sp_csd%3Dd2lkZ2V0TmFtZT1zcF9tdGY%26psc%3D1', 'https://www.amazon.in/Titan-Analog-Brown-Dial-Watch-1698QM02/dp/B0C89G3LWN/ref=sr_1_121?crid=1MECILXNL9J2U&keywords=mens+watches&qid=1694091841&sprefix=mens+watches%2Caps%2C104&sr=8-121', 'https://www.amazon.in/Noise-Bluetooth-Resolution-Smartwatch-Champagne/dp/B09NBZJ8NJ/ref=sr_1_122?crid=1MECILXNL9J2U&keywords=mens+watches&qid=1694091841&sprefix=mens+watches%2Caps%2C104&sr=8-122', 'https://www.amazon.in/Casio-Enticer-Analog-Watch-MTP-VD01D-2BVUDF-A1363/dp/B07BS3LCTS/ref=sr_1_123?crid=1MECILXNL9J2U&keywords=mens+watches&qid=1694091841&sprefix=mens+watches%2Caps%2C104&sr=8-123', 'https://www.amazon.in/Casio-Analog-Black-Dial-Watch-EFV-100D-1AVUDF/dp/B095SLFPJ3/ref=sr_1_124?crid=1MECILXNL9J2U&keywords=mens+watches&qid=1694091841&sprefix=mens+watches%2Caps%2C104&sr=8-124', 'https://www.amazon.in/Titan-Gents-Karishma-Analog-Watch-1825KM01/dp/B07SPCJ13L/ref=sr_1_125?crid=1MECILXNL9J2U&keywords=mens+watches&qid=1694091841&sprefix=mens+watches%2Caps%2C104&sr=8-125', 'https://www.amazon.in/Sonata-Yuva-Analog-Black-Watch-NK7924SL04/dp/B00B81M1ZM/ref=sr_1_126?crid=1MECILXNL9J2U&keywords=mens+watches&qid=1694091841&sprefix=mens+watches%2Caps%2C104&sr=8-126', 'https://www.amazon.in/Fastrack-Stunners-4-0-Analog-Watch/dp/B0B7BK55X1/ref=sr_1_127?crid=1MECILXNL9J2U&keywords=mens+watches&qid=1694091841&sprefix=mens+watches%2Caps%2C104&sr=8-127', 'https://www.amazon.in/Casio-G-Shock-Digital-Watch-GD-100-1BDR-G310/dp/B0049HSJ76/ref=sr_1_128?crid=1MECILXNL9J2U&keywords=mens+watches&qid=1694091841&sprefix=mens+watches%2Caps%2C104&sr=8-128', 'https://www.amazon.in/Titan-Analog-Silver-Dial-Watch-1802SL02/dp/B07MXGGWG4/ref=sr_1_129?crid=1MECILXNL9J2U&keywords=mens+watches&qid=1694091841&sprefix=mens+watches%2Caps%2C104&sr=8-129', 'https://www.amazon.in/Fastrack-Limitless-Brightness-SingleSync-Watchfaces/dp/B0C5XRT7XY/ref=sr_1_130?crid=1MECILXNL9J2U&keywords=mens+watches&qid=1694091841&sprefix=mens+watches%2Caps%2C104&sr=8-130', 'https://www.amazon.in/Carlson-Raulen-Chronograph-Waterproof-Wristwatch/dp/B0C2HNG9TF/ref=sr_1_131?crid=1MECILXNL9J2U&keywords=mens+watches&qid=1694091841&sprefix=mens+watches%2Caps%2C104&sr=8-131', 'https://www.amazon.in/Sonata-Analog-Black-Dial-Watch-NJ7987YL03W/dp/B00GSJ1U9W/ref=sr_1_132?crid=1MECILXNL9J2U&keywords=mens+watches&qid=1694091841&sprefix=mens+watches%2Caps%2C104&sr=8-132', 'https://www.amazon.in/Fire-Boltt-Bluetooth-Calling-Assistance-Monitoring/dp/B0B853MRMY/ref=sr_1_133?crid=1MECILXNL9J2U&keywords=mens+watches&qid=1694091841&sprefix=mens+watches%2Caps%2C104&sr=8-133', 'https://www.amazon.in/Timex-Analog-Black-Dial-Watch-TW000R433/dp/B083JVMZ7C/ref=sr_1_134?crid=1MECILXNL9J2U&keywords=mens+watches&qid=1694091841&sprefix=mens+watches%2Caps%2C104&sr=8-134', 'https://www.amazon.in/Timex-Analog-Blue-Dial-Watch-TWHG35SMU04/dp/B09W2DWP4H/ref=sr_1_135?crid=1MECILXNL9J2U&keywords=mens+watches&qid=1694091841&sprefix=mens+watches%2Caps%2C104&sr=8-135', 'https://www.amazon.in/Sonata-Digital-Grey-Dial-Watch-77072PP04/dp/B079VPB31S/ref=sr_1_136?crid=1MECILXNL9J2U&keywords=mens+watches&qid=1694091841&sprefix=mens+watches%2Caps%2C104&sr=8-136', 'https://www.amazon.in/Tommy-Hilfiger-Analog-Blue-Watch-TH1791399/dp/B07BBM3NL8/ref=sr_1_137?crid=1MECILXNL9J2U&keywords=mens+watches&qid=1694091841&sprefix=mens+watches%2Caps%2C104&sr=8-137', 'https://www.amazon.in/Fossil-Machine-Analog-White-Watch-FS5922/dp/B09VJSGDGD/ref=sr_1_138?crid=1MECILXNL9J2U&keywords=mens+watches&qid=1694091841&sprefix=mens+watches%2Caps%2C104&sr=8-138', 'https://www.amazon.in/Titan-Gents-Karishma-Analog-Watch-1825YL01/dp/B07SL41KS1/ref=sr_1_139?crid=1MECILXNL9J2U&keywords=mens+watches&qid=1694091841&sprefix=mens+watches%2Caps%2C104&sr=8-139', 'https://www.amazon.in/Fastrack-Analog-Silver-Dial-Watch-NK9332PP06/dp/B07BRTLC6R/ref=sr_1_140?crid=1MECILXNL9J2U&keywords=mens+watches&qid=1694091841&sprefix=mens+watches%2Caps%2C104&sr=8-140', 'https://www.amazon.in/Timex-Analog-Blue-Dial-Watch-TW000U931/dp/B07BH59R8K/ref=sr_1_141?crid=1MECILXNL9J2U&keywords=mens+watches&qid=1694091841&sprefix=mens+watches%2Caps%2C104&sr=8-141', 'https://www.amazon.in/Shocknshop-Analog-Digital-Sports-Functional/dp/B0BLCP81TF/ref=sr_1_142?crid=1MECILXNL9J2U&keywords=mens+watches&qid=1694091841&sprefix=mens+watches%2Caps%2C104&sr=8-142', 'https://www.amazon.in/Fossil-Autocross-Analog-Blue-Watch-BQ2552/dp/B09B45CD1Q/ref=sr_1_143?crid=1MECILXNL9J2U&keywords=mens+watches&qid=1694091841&sprefix=mens+watches%2Caps%2C104&sr=8-143', 'https://www.amazon.in/Maxima-Bluetooth-Resolution-Smartwatch-Monitoring/dp/B0C81KTCP2/ref=sr_1_144?crid=1MECILXNL9J2U&keywords=mens+watches&qid=1694091841&sprefix=mens+watches%2Caps%2C104&sr=8-144', 'https://www.amazon.in/NIBOSI-Hollow-Out-Mechanical-Functional-Chronograph/dp/B0BSXQ73QS/ref=sr_1_145?crid=1MECILXNL9J2U&keywords=mens+watches&qid=1694091841&sprefix=mens+watches%2Caps%2C104&sr=8-145', 'https://www.amazon.in/TIMEX-Multifunction-Analog-Coloured-Quartz/dp/B0C1T32K7R/ref=sr_1_146?crid=1MECILXNL9J2U&keywords=mens+watches&qid=1694091841&sprefix=mens+watches%2Caps%2C104&sr=8-146', 'https://www.amazon.in/Fastrack-Essentials-Analog-Grey-Watch-NK3015AL02/dp/B00A8ZWTO2/ref=sr_1_147?crid=1MECILXNL9J2U&keywords=mens+watches&qid=1694091841&sprefix=mens+watches%2Caps%2C104&sr=8-147', 'https://www.amazon.in/Timex-Analog-Blue-Dial-Watch-TWEG17002/dp/B07QQ18SG3/ref=sr_1_148?crid=1MECILXNL9J2U&keywords=mens+watches&qid=1694091841&sprefix=mens+watches%2Caps%2C104&sr=8-148', 'https://www.amazon.in/Fossil-Analog-Blue-Dial-Watch-FS5661/dp/B07WGWGMBM/ref=sr_1_149?crid=1MECILXNL9J2U&keywords=mens+watches&qid=1694091841&sprefix=mens+watches%2Caps%2C104&sr=8-149', 'https://www.amazon.in/SKMEI-Analogue-Digital-Watch-1688_RG/dp/B08GD2YMTG/ref=sr_1_150?crid=1MECILXNL9J2U&keywords=mens+watches&qid=1694091841&sprefix=mens+watches%2Caps%2C104&sr=8-150', 'https://www.amazon.in/Casio-Enticer-Analog-Watch-MTP-VD01G-1BVUDF-A1367/dp/B07BS5JZRR/ref=sr_1_151?crid=1MECILXNL9J2U&keywords=mens+watches&qid=1694091841&sprefix=mens+watches%2Caps%2C104&sr=8-151', 'https://www.amazon.in/Naviforce-Digital-Chronograph-Leather-NF9197L-SGNGN/dp/B09W2S14ZS/ref=sr_1_152?crid=1MECILXNL9J2U&keywords=mens+watches&qid=1694091841&sprefix=mens+watches%2Caps%2C104&sr=8-152', 'https://www.amazon.in/sspa/click?ie=UTF8&spc=MToxNjY0NTk1MDgxODM2NjE0OjE2OTQwOTE4NDE6c3BfYnRmOjIwMDMwMTkxNTMwODA1OjowOjo&url=%2FTIMEWEAR-Analog-Hands-Brown-Leather%2Fdp%2FB07DN93B9R%2Fref%3Dsr_1_153_sspa%3Fcrid%3D1MECILXNL9J2U%26keywords%3Dmens%2Bwatches%26qid%3D1694091841%26sprefix%3Dmens%2Bwatches%252Caps%252C104%26sr%3D8-153-spons%26sp_csd%3Dd2lkZ2V0TmFtZT1zcF9idGY%26psc%3D1', 'https://www.amazon.in/sspa/click?ie=UTF8&spc=MToxNjY0NTk1MDgxODM2NjE0OjE2OTQwOTE4NDE6c3BfYnRmOjIwMTQxMDc1MDQ3ODk4OjowOjo&url=%2FTimex-Analog-Black-Dial-Watch-TW000R433%2Fdp%2FB083JVMZ7C%2Fref%3Dsr_1_154_sspa%3Fcrid%3D1MECILXNL9J2U%26keywords%3Dmens%2Bwatches%26qid%3D1694091841%26sprefix%3Dmens%2Bwatches%252Caps%252C104%26sr%3D8-154-spons%26sp_csd%3Dd2lkZ2V0TmFtZT1zcF9idGY%26psc%3D1', 'https://www.amazon.in/sspa/click?ie=UTF8&spc=MToxNjY0NTk1MDgxODM2NjE0OjE2OTQwOTE4NDE6c3BfYnRmOjIwMDk0MDAxMzM2NDk4OjowOjo&url=%2FTIMEWEAR-Analog-Number-Functioning-Leather%2Fdp%2FB0BJF1GF29%2Fref%3Dsr_1_155_sspa%3Fcrid%3D1MECILXNL9J2U%26keywords%3Dmens%2Bwatches%26qid%3D1694091841%26sprefix%3Dmens%2Bwatches%252Caps%252C104%26sr%3D8-155-spons%26sp_csd%3Dd2lkZ2V0TmFtZT1zcF9idGY%26psc%3D1', 'https://www.amazon.in/sspa/click?ie=UTF8&spc=MToxNjY0NTk1MDgxODM2NjE0OjE2OTQwOTE4NDE6c3BfYnRmOjMwMDAyNDQzNTk5NTAzMjo6MDo6&url=%2FTimex-Analog-Black-Dial-Watch-TWHG35SMU05%2Fdp%2FB09W2D6QY5%2Fref%3Dsr_1_156_sspa%3Fcrid%3D1MECILXNL9J2U%26keywords%3Dmens%2Bwatches%26qid%3D1694091841%26sprefix%3Dmens%2Bwatches%252Caps%252C104%26sr%3D8-156-spons%26sp_csd%3Dd2lkZ2V0TmFtZT1zcF9idGY%26psc%3D1', 'https://aax-eu.amazon.in/x/c/RBR8rBkSB4TvwdILoxMV4dEAAAGKb74RZAMAAAH2AQBvbm9fdHhuX2JpZDMgICBvbm9fdHhuX2ltcDEgICDIYALt/https://www.amazon.in/TIMEX-Strength-Collection-Digital-Coloured/dp/B0BYD99VL3/ref=sxbs_sbv_search_btf?content-id=amzn1.sym.880c6186-3832-495e-9caa-7ecfb2f5e88c%3Aamzn1.sym.880c6186-3832-495e-9caa-7ecfb2f5e88c&crid=1MECILXNL9J2U&cv_ct_cx=mens+watches&keywords=mens+watches&pd_rd_i=B0BYD99VL3&pd_rd_r=699811fc-411a-4243-8d0c-188079e24fb5&pd_rd_w=39oYW&pd_rd_wg=ZXFUZ&pf_rd_p=880c6186-3832-495e-9caa-7ecfb2f5e88c&pf_rd_r=YTDJE601W4TPNY4R0T8F&qid=1694091841&sbo=RZvfv%2F%2FHxDF%2BO5021pAnSA%3D%3D&sprefix=mens+watches%2Caps%2C104&sr=1-97-06195d41-65bd-48f4-8e70-03d97b6094ec']\n"
     ]
    }
   ],
   "source": [
    "print(item_url)"
   ]
  },
  {
   "cell_type": "code",
   "execution_count": 53,
   "id": "ece73cd0",
   "metadata": {},
   "outputs": [],
   "source": [
    "# open the product to access all scrape requirement \n",
    "product_page=driver.find_element(By.XPATH,\"/html/body/div[1]/div[2]/div[1]/div[1]/div/span[1]/div[1]/div[3]/div/div/div/div/div/div/div[2]/div[1]/h2/a\")\n",
    "product_page.click()"
   ]
  },
  {
   "cell_type": "code",
   "execution_count": null,
   "id": "6487ffcc",
   "metadata": {},
   "outputs": [],
   "source": [
    "# fetching Brand name \n",
    "brand_name=[]\n",
    "name_of_product=[]\n",
    "Price=[]\n",
    "Return_Exchange=[]\n",
    "expected_delivery=[]\n",
    "Availability=[]\n",
    "for url in product_url:      # loop for every women in the list\n",
    "    driver.get(url)\n",
    "    time.sleep(2)\n",
    "    \n",
    "    try:\n",
    "        brand=driver.find_element(By.XPATH,'//div[@id=\"technicalSpecifications_feature_div\"]//tr[6]//td') # for brand name \n",
    "        brand_name.append(brand.text)\n",
    "    except NoSuchElementException:\n",
    "        brand_name.append('-')\n",
    "        \n",
    "    try:\n",
    "        product=driver.find_element(By.XPATH,'//span[@id=\"productTitle\"]')\n",
    "        name_of_product.append(product.text)\n",
    "    except NoSuchElementException:\n",
    "        name_of_product.append('-')\n",
    "        \n",
    "    try:\n",
    "        price=driver.find_element(By.XPATH,'//span[@class=\"a-price aok-align-center reinventPricePriceToPayMargin priceToPay\"]')# for price \n",
    "        Price.append(price.text)\n",
    "    except NoSuchElementException:\n",
    "        Price.append('-')\n",
    "        \n",
    "    try:\n",
    "        replacement=driver.find_element(By.XPATH,'/html/body/div[2]/div[2]/div[5]/div[1]/div[1]/div[2]/div[2]/div/div/div[1]/div[14]/div[2]/div/div/div/div[2]/div/ol/li[3]/div/span/div[2]/span') # for return/exchange\n",
    "        Return_Exchange.append(replacement.text)\n",
    "    except NoSuchElementException:\n",
    "        Return_Exchange.append('-')\n",
    "        \n",
    "    try:\n",
    "        delivery=driver.find_element(By.XPATH,'//div[@id=\"deliveryBlockMessage\"]')# for expected delivery\n",
    "        expected_delivery.append(delivery.text)\n",
    "    except NoSuchElementException:\n",
    "        expected_delivery.append('-')\n",
    "        \n",
    "    try:\n",
    "        availability=driver.find_element(By.XPATH,'//span[@class=\"a-size-medium a-color-success\"]') # for availability\n",
    "        Availability.append(availability.text)\n",
    "    except NoSuchElementException:\n",
    "        Availability.append('-')"
   ]
  },
  {
   "cell_type": "code",
   "execution_count": 61,
   "id": "57146525",
   "metadata": {},
   "outputs": [
    {
     "data": {
      "text/html": [
       "<div>\n",
       "<style scoped>\n",
       "    .dataframe tbody tr th:only-of-type {\n",
       "        vertical-align: middle;\n",
       "    }\n",
       "\n",
       "    .dataframe tbody tr th {\n",
       "        vertical-align: top;\n",
       "    }\n",
       "\n",
       "    .dataframe thead th {\n",
       "        text-align: right;\n",
       "    }\n",
       "</style>\n",
       "<table border=\"1\" class=\"dataframe\">\n",
       "  <thead>\n",
       "    <tr style=\"text-align: right;\">\n",
       "      <th></th>\n",
       "      <th>BRAND_NAME</th>\n",
       "      <th>PRODUCT_NAME</th>\n",
       "      <th>PRODUCT_PRICE</th>\n",
       "      <th>TIME_RETURNABLE</th>\n",
       "      <th>DELIVERY_TIME</th>\n",
       "      <th>AVAILABILITY</th>\n",
       "      <th>ITEM_URL</th>\n",
       "    </tr>\n",
       "  </thead>\n",
       "  <tbody>\n",
       "    <tr>\n",
       "      <th>0</th>\n",
       "      <td>Stainless Steel</td>\n",
       "      <td>Fossil Chronograph White Dial Men's Watch-CH2882</td>\n",
       "      <td>₹5,097\\n00</td>\n",
       "      <td>10 days Replacement</td>\n",
       "      <td>FREE delivery Saturday, 9 September. Details\\n...</td>\n",
       "      <td>In stock</td>\n",
       "      <td>https://www.amazon.in/sspa/click?ie=UTF8&amp;spc=M...</td>\n",
       "    </tr>\n",
       "    <tr>\n",
       "      <th>1</th>\n",
       "      <td>22 Millimeters</td>\n",
       "      <td>Fossil Chronograph Black Dial Men's Watch-BQ2364</td>\n",
       "      <td>₹7,497\\n00</td>\n",
       "      <td>10 days Replacement</td>\n",
       "      <td>FREE delivery Saturday, 9 September. Details\\n...</td>\n",
       "      <td>-</td>\n",
       "      <td>https://www.amazon.in/sspa/click?ie=UTF8&amp;spc=M...</td>\n",
       "    </tr>\n",
       "    <tr>\n",
       "      <th>2</th>\n",
       "      <td>Stainless Steel</td>\n",
       "      <td>Fossil Chronograph Black Men Watch CH2885</td>\n",
       "      <td>₹5,997\\n00</td>\n",
       "      <td>10 days Replacement</td>\n",
       "      <td>FREE delivery Saturday, 9 September. Details\\n...</td>\n",
       "      <td>In stock</td>\n",
       "      <td>https://www.amazon.in/sspa/click?ie=UTF8&amp;spc=M...</td>\n",
       "    </tr>\n",
       "    <tr>\n",
       "      <th>3</th>\n",
       "      <td>Fossil</td>\n",
       "      <td>Fossil Men's Defender Solar-Powered Stainless ...</td>\n",
       "      <td>₹5,798\\n00</td>\n",
       "      <td>Top Brand</td>\n",
       "      <td>FREE delivery Monday, 11 September. Details\\nO...</td>\n",
       "      <td>-</td>\n",
       "      <td>https://www.amazon.in/sspa/click?ie=UTF8&amp;spc=M...</td>\n",
       "    </tr>\n",
       "    <tr>\n",
       "      <th>4</th>\n",
       "      <td>LOUIS DEVIN</td>\n",
       "      <td>LOUIS DEVIN Silicone Strap Analog Wrist Watch ...</td>\n",
       "      <td>₹394\\n00</td>\n",
       "      <td>10 days Returnable</td>\n",
       "      <td>FREE delivery Saturday, 9 September on orders ...</td>\n",
       "      <td>In stock</td>\n",
       "      <td>https://www.amazon.in/LOUIS-DEVIN-Silicone-Ana...</td>\n",
       "    </tr>\n",
       "    <tr>\n",
       "      <th>...</th>\n",
       "      <td>...</td>\n",
       "      <td>...</td>\n",
       "      <td>...</td>\n",
       "      <td>...</td>\n",
       "      <td>...</td>\n",
       "      <td>...</td>\n",
       "      <td>...</td>\n",
       "    </tr>\n",
       "    <tr>\n",
       "      <th>184</th>\n",
       "      <td>LOUIS DEVIN</td>\n",
       "      <td>LOUIS DEVIN Silicone Strap Analog Wrist Watch ...</td>\n",
       "      <td>₹379\\n00</td>\n",
       "      <td>10 days Returnable</td>\n",
       "      <td>FREE delivery Saturday, 16 September on orders...</td>\n",
       "      <td>In stock</td>\n",
       "      <td>https://www.amazon.in/sspa/click?ie=UTF8&amp;spc=M...</td>\n",
       "    </tr>\n",
       "    <tr>\n",
       "      <th>185</th>\n",
       "      <td>Day-Date</td>\n",
       "      <td>LOUIS DEVIN WT005 Stainless Steel Chain Analog...</td>\n",
       "      <td>₹359\\n00</td>\n",
       "      <td>10 days Replacement</td>\n",
       "      <td>FREE delivery Saturday, 16 September on orders...</td>\n",
       "      <td>In stock</td>\n",
       "      <td>https://www.amazon.in/sspa/click?ie=UTF8&amp;spc=M...</td>\n",
       "    </tr>\n",
       "    <tr>\n",
       "      <th>186</th>\n",
       "      <td>Day-Date</td>\n",
       "      <td>LOUIS DEVIN WT030 Leather Strap Analog Wrist W...</td>\n",
       "      <td>₹299\\n00</td>\n",
       "      <td>10 days Returnable</td>\n",
       "      <td>FREE delivery Saturday, 16 September on orders...</td>\n",
       "      <td>In stock</td>\n",
       "      <td>https://www.amazon.in/sspa/click?ie=UTF8&amp;spc=M...</td>\n",
       "    </tr>\n",
       "    <tr>\n",
       "      <th>187</th>\n",
       "      <td>LOUIS DEVIN</td>\n",
       "      <td>LOUIS DEVIN Silicone Strap Analog Wrist Watch ...</td>\n",
       "      <td>₹359\\n00</td>\n",
       "      <td>10 days Returnable</td>\n",
       "      <td>FREE delivery Saturday, 16 September on orders...</td>\n",
       "      <td>In stock</td>\n",
       "      <td>https://www.amazon.in/sspa/click?ie=UTF8&amp;spc=M...</td>\n",
       "    </tr>\n",
       "    <tr>\n",
       "      <th>188</th>\n",
       "      <td>NIBOSI</td>\n",
       "      <td>NIBOSI Men's Watch Analog Chronograph Quartz W...</td>\n",
       "      <td>₹3,099\\n00</td>\n",
       "      <td>10 days Returnable</td>\n",
       "      <td>FREE delivery Saturday, 9 September. Details\\n...</td>\n",
       "      <td>In stock</td>\n",
       "      <td>https://aax-eu.amazon.in/x/c/RBR8rBkSB4TvwdILo...</td>\n",
       "    </tr>\n",
       "  </tbody>\n",
       "</table>\n",
       "<p>189 rows × 7 columns</p>\n",
       "</div>"
      ],
      "text/plain": [
       "          BRAND_NAME                                       PRODUCT_NAME  \\\n",
       "0    Stainless Steel   Fossil Chronograph White Dial Men's Watch-CH2882   \n",
       "1     22 Millimeters   Fossil Chronograph Black Dial Men's Watch-BQ2364   \n",
       "2    Stainless Steel          Fossil Chronograph Black Men Watch CH2885   \n",
       "3             Fossil  Fossil Men's Defender Solar-Powered Stainless ...   \n",
       "4        LOUIS DEVIN  LOUIS DEVIN Silicone Strap Analog Wrist Watch ...   \n",
       "..               ...                                                ...   \n",
       "184      LOUIS DEVIN  LOUIS DEVIN Silicone Strap Analog Wrist Watch ...   \n",
       "185         Day-Date  LOUIS DEVIN WT005 Stainless Steel Chain Analog...   \n",
       "186         Day-Date  LOUIS DEVIN WT030 Leather Strap Analog Wrist W...   \n",
       "187      LOUIS DEVIN  LOUIS DEVIN Silicone Strap Analog Wrist Watch ...   \n",
       "188           NIBOSI  NIBOSI Men's Watch Analog Chronograph Quartz W...   \n",
       "\n",
       "    PRODUCT_PRICE      TIME_RETURNABLE  \\\n",
       "0      ₹5,097\\n00  10 days Replacement   \n",
       "1      ₹7,497\\n00  10 days Replacement   \n",
       "2      ₹5,997\\n00  10 days Replacement   \n",
       "3      ₹5,798\\n00            Top Brand   \n",
       "4        ₹394\\n00   10 days Returnable   \n",
       "..            ...                  ...   \n",
       "184      ₹379\\n00   10 days Returnable   \n",
       "185      ₹359\\n00  10 days Replacement   \n",
       "186      ₹299\\n00   10 days Returnable   \n",
       "187      ₹359\\n00   10 days Returnable   \n",
       "188    ₹3,099\\n00   10 days Returnable   \n",
       "\n",
       "                                         DELIVERY_TIME AVAILABILITY  \\\n",
       "0    FREE delivery Saturday, 9 September. Details\\n...     In stock   \n",
       "1    FREE delivery Saturday, 9 September. Details\\n...            -   \n",
       "2    FREE delivery Saturday, 9 September. Details\\n...     In stock   \n",
       "3    FREE delivery Monday, 11 September. Details\\nO...            -   \n",
       "4    FREE delivery Saturday, 9 September on orders ...     In stock   \n",
       "..                                                 ...          ...   \n",
       "184  FREE delivery Saturday, 16 September on orders...     In stock   \n",
       "185  FREE delivery Saturday, 16 September on orders...     In stock   \n",
       "186  FREE delivery Saturday, 16 September on orders...     In stock   \n",
       "187  FREE delivery Saturday, 16 September on orders...     In stock   \n",
       "188  FREE delivery Saturday, 9 September. Details\\n...     In stock   \n",
       "\n",
       "                                              ITEM_URL  \n",
       "0    https://www.amazon.in/sspa/click?ie=UTF8&spc=M...  \n",
       "1    https://www.amazon.in/sspa/click?ie=UTF8&spc=M...  \n",
       "2    https://www.amazon.in/sspa/click?ie=UTF8&spc=M...  \n",
       "3    https://www.amazon.in/sspa/click?ie=UTF8&spc=M...  \n",
       "4    https://www.amazon.in/LOUIS-DEVIN-Silicone-Ana...  \n",
       "..                                                 ...  \n",
       "184  https://www.amazon.in/sspa/click?ie=UTF8&spc=M...  \n",
       "185  https://www.amazon.in/sspa/click?ie=UTF8&spc=M...  \n",
       "186  https://www.amazon.in/sspa/click?ie=UTF8&spc=M...  \n",
       "187  https://www.amazon.in/sspa/click?ie=UTF8&spc=M...  \n",
       "188  https://aax-eu.amazon.in/x/c/RBR8rBkSB4TvwdILo...  \n",
       "\n",
       "[189 rows x 7 columns]"
      ]
     },
     "execution_count": 61,
     "metadata": {},
     "output_type": "execute_result"
    }
   ],
   "source": [
    "df=pd.DataFrame({\"BRAND_NAME\":brand_name,\"PRODUCT_NAME\":name_of_product, \"PRODUCT_PRICE\":Price, \"TIME_RETURNABLE\":Return_Exchange,\"DELIVERY_TIME\":expected_delivery, \"AVAILABILITY\":Availability,\"ITEM_URL\":item_url })\n",
    "\n",
    "df"
   ]
  },
  {
   "cell_type": "code",
   "execution_count": 63,
   "id": "ff467845",
   "metadata": {},
   "outputs": [],
   "source": [
    "import csv"
   ]
  },
  {
   "cell_type": "code",
   "execution_count": 90,
   "id": "b6401659",
   "metadata": {},
   "outputs": [],
   "source": [
    "df.to_csv(\"C:\\\\Users\\\\ujobo\\\\OneDrive\\\\Desktop\\\\watches.csv\")\n",
    "df=pd.read_csv(\"C:\\\\Users\\\\ujobo\\\\OneDrive\\\\Desktop\\\\watches.csv\")"
   ]
  },
  {
   "cell_type": "markdown",
   "id": "6f4d5598",
   "metadata": {},
   "source": [
    "QUESTION 3\n",
    "\n",
    "Write a python program to access the search bar and search button on images.google.com and scrape 10 \n",
    "images each for keywords ‘fruits’, ‘cars’ and ‘Machine Learning’, ‘Guitar’, ‘Cakes’. "
   ]
  },
  {
   "cell_type": "code",
   "execution_count": 92,
   "id": "e6872d54",
   "metadata": {},
   "outputs": [],
   "source": [
    "driver = webdriver.Chrome()\n",
    "##Opening the google.com page on automated chrome broswer\n",
    "driver.get(\"https://google.com\")"
   ]
  },
  {
   "cell_type": "code",
   "execution_count": 93,
   "id": "beec58e8",
   "metadata": {},
   "outputs": [],
   "source": [
    "# To access the search button on image\n",
    "search=driver.find_element(By.XPATH,\"/html/body/div[1]/div[1]/div/div/div/div[1]/div/div[2]/a\")\n",
    "search.click()"
   ]
  },
  {
   "cell_type": "code",
   "execution_count": 94,
   "id": "dc0680f8",
   "metadata": {},
   "outputs": [],
   "source": [
    "# To search for Fruits in the search field \n",
    "search_product=driver.find_element(By.XPATH,'/html/body/div[1]/div[3]/form/div[1]/div[1]/div[1]/div/div[2]/textarea')    # product search bar\n",
    "search_product.send_keys('fruits')"
   ]
  },
  {
   "cell_type": "code",
   "execution_count": 95,
   "id": "dd1dd245",
   "metadata": {},
   "outputs": [],
   "source": [
    "search=driver.find_element(By.XPATH,\"/html/body/div[1]/div[3]/form/div[1]/div[1]/div[1]/button\")\n",
    "search.click()"
   ]
  },
  {
   "cell_type": "code",
   "execution_count": 96,
   "id": "35f90e68",
   "metadata": {},
   "outputs": [],
   "source": [
    "# Scraping first 10 image of fruits \n",
    "for i in range(20):\n",
    "    driver.execute_script(\"window.scrollBy(0,100)\")\n",
    "    \n",
    "images = driver.find_elements(By.XPATH,'//div[@class=\"bRMDJf islir\"]')\n",
    "\n",
    "img_urls =[]\n",
    "for fruit in images:\n",
    "    source= fruit.get_attribute('src')\n",
    "    if source is not None:\n",
    "        if(source[0:4] == 'http'):\n",
    "            img.urls.append(source)\n",
    "            \n",
    "for i in range(len(img_urls)):\n",
    "    if i > 10:\n",
    "        breakBy.XPATH,\n",
    "        #print(\"Downloading {0} of {1} images\" .format(i. 10))\n",
    "        response= requests.get(img_urls[i])\n",
    "        file = open(r\"C:\\\\Users\\ujobo\\\\OneDrive\\\\Desktop\\\\fliprobo_assig\"+str(i)+\".jpg\", \"wb\")\n",
    "        file.write(response.content)\n",
    "            \n",
    "            \n",
    "\n"
   ]
  },
  {
   "cell_type": "code",
   "execution_count": null,
   "id": "a2ea559e",
   "metadata": {},
   "outputs": [],
   "source": [
    "drive.close()"
   ]
  },
  {
   "cell_type": "markdown",
   "id": "dab8e8ea",
   "metadata": {},
   "source": [
    "# QUESTION 4\n",
    "\n",
    "Write a python program to search for a smartphone(e.g.: Oneplus Nord, pixel 4A, etc.) on www.flipkart.com\n",
    "and scrape following details for all the search results displayed on 1st page. Details to be scraped: “Brand \n",
    "Name”, “Smartphone name”, “Colour”, “RAM”, “Storage(ROM)”, “Primary Camera”, \n",
    "“Secondary Camera”, “Display Size”, “Battery Capacity”, “Price”, “Product URL”. Incase if any of the \n",
    "details is missing then replace it by “- “. Save your results in a dataframe and CSV."
   ]
  },
  {
   "cell_type": "code",
   "execution_count": 15,
   "id": "bb0f3faa",
   "metadata": {},
   "outputs": [],
   "source": [
    "driver = webdriver.Chrome()\n",
    "##Opening the flipkart page on automated chrome broswer\n",
    "driver.get(\"https://www.flipkart.com/\")"
   ]
  },
  {
   "cell_type": "code",
   "execution_count": 18,
   "id": "a26708ef",
   "metadata": {},
   "outputs": [],
   "source": [
    "# To search for smartphone in the search field \n",
    "search_product=driver.find_element(By.XPATH,'/html/body/div[1]/div/div[1]/div/div/div/div/div[1]/div/div[1]/div/div[1]/header/div[1]/div[2]/form/div/div/input')    # product search bar\n",
    "search_product.send_keys('pixel 4')"
   ]
  },
  {
   "cell_type": "code",
   "execution_count": 19,
   "id": "eda36ca6",
   "metadata": {},
   "outputs": [],
   "source": [
    "# To access the search button on image\n",
    "search=driver.find_element(By.XPATH,\"/html/body/div[1]/div/div[1]/div/div/div/div/div[1]/div/div[1]/div/div[1]/header/div[1]/div[2]/form/div/button\")\n",
    "search.click()"
   ]
  },
  {
   "cell_type": "code",
   "execution_count": 20,
   "id": "306fc10f",
   "metadata": {},
   "outputs": [],
   "source": [
    "# fetching the out url\n",
    "product_url=[]    # creating empty list\n",
    "start=0     # creating variable name start which is equal to index 0 and page 1 in the given page to start \n",
    "end=3      # creating variable name end which is equal to index 2 and page 3\n",
    "for page in range(start,end):\n",
    "    url = driver.find_elements(By.XPATH,'//a[@class=\"_1fQZEK\"]')\n",
    "    for i in url:\n",
    "        product_url.append(i.get_attribute('href')) # to retrieve any link we use get_attribute\n",
    "    next_button=driver.find_element(By.XPATH, '//a[@class=\"_1LKTO3\"]')                  #  To scrap data from next page\n",
    "    next_button.click()\n",
    "    time.sleep(3)"
   ]
  },
  {
   "cell_type": "code",
   "execution_count": 21,
   "id": "0d0643cc",
   "metadata": {},
   "outputs": [
    {
     "data": {
      "text/plain": [
       "72"
      ]
     },
     "execution_count": 21,
     "metadata": {},
     "output_type": "execute_result"
    }
   ],
   "source": [
    "len(product_url)"
   ]
  },
  {
   "cell_type": "code",
   "execution_count": 22,
   "id": "1da4135e",
   "metadata": {},
   "outputs": [
    {
     "name": "stdout",
     "output_type": "stream",
     "text": [
      "['https://www.flipkart.com/google-pixel-6a-chalk-128-gb/p/itme5ae89135d44e?pid=MOBGFWEZ5SKU84Z8&lid=LSTMOBGFWEZ5SKU84Z8FXPB45&marketplace=FLIPKART&q=pixel+4pixel+4pixel+4&store=tyy%2F4io&srno=s_1_1&otracker=search&otracker1=search&fm=organic&iid=7ec45355-97c8-4d01-918a-4bdafc592033.MOBGFWEZ5SKU84Z8.SEARCH&ppt=hp&ppn=homepage&ssid=yvfw9bqazk0000001694382718712&qH=c64088b509a36013', 'https://www.flipkart.com/google-pixel-6a-charcoal-128-gb/p/itme5ae89135d44e?pid=MOBGFKX5YUXD74Z3&lid=LSTMOBGFKX5YUXD74Z3MXA2OB&marketplace=FLIPKART&q=pixel+4pixel+4pixel+4&store=tyy%2F4io&srno=s_1_2&otracker=search&otracker1=search&fm=organic&iid=7ec45355-97c8-4d01-918a-4bdafc592033.MOBGFKX5YUXD74Z3.SEARCH&ppt=hp&ppn=homepage&ssid=yvfw9bqazk0000001694382718712&qH=c64088b509a36013', 'https://www.flipkart.com/google-pixel-7-snow-128-gb/p/itm45d75002be0e7?pid=MOBGHW44PRZ8WP2M&lid=LSTMOBGHW44PRZ8WP2MEGIXNO&marketplace=FLIPKART&q=pixel+4pixel+4pixel+4&store=tyy%2F4io&srno=s_1_3&otracker=search&otracker1=search&fm=organic&iid=7ec45355-97c8-4d01-918a-4bdafc592033.MOBGHW44PRZ8WP2M.SEARCH&ppt=hp&ppn=homepage&ssid=yvfw9bqazk0000001694382718712&qH=c64088b509a36013', 'https://www.flipkart.com/google-pixel-7-lemongrass-128-gb/p/itm45d75002be0e7?pid=MOBGHW44ZSN5EPGU&lid=LSTMOBGHW44ZSN5EPGUVDQE3A&marketplace=FLIPKART&q=pixel+4pixel+4pixel+4&store=tyy%2F4io&srno=s_1_4&otracker=search&otracker1=search&fm=organic&iid=7ec45355-97c8-4d01-918a-4bdafc592033.MOBGHW44ZSN5EPGU.SEARCH&ppt=hp&ppn=homepage&ssid=yvfw9bqazk0000001694382718712&qH=c64088b509a36013', 'https://www.flipkart.com/google-pixel-7-obsidian-128-gb/p/itm45d75002be0e7?pid=MOBGHW44NHFZJN6N&lid=LSTMOBGHW44NHFZJN6NICUEYB&marketplace=FLIPKART&q=pixel+4pixel+4pixel+4&store=tyy%2F4io&srno=s_1_5&otracker=search&otracker1=search&fm=organic&iid=7ec45355-97c8-4d01-918a-4bdafc592033.MOBGHW44NHFZJN6N.SEARCH&ppt=hp&ppn=homepage&ssid=yvfw9bqazk0000001694382718712&qH=c64088b509a36013', 'https://www.flipkart.com/google-pixel-7a-sea-128-gb/p/itmb4d7b100b1a4d?pid=MOBGZCQM8PZEGRWU&lid=LSTMOBGZCQM8PZEGRWU0X8NQN&marketplace=FLIPKART&q=pixel+4pixel+4pixel+4&store=tyy%2F4io&srno=s_1_6&otracker=search&otracker1=search&fm=organic&iid=7ec45355-97c8-4d01-918a-4bdafc592033.MOBGZCQM8PZEGRWU.SEARCH&ppt=hp&ppn=homepage&ssid=yvfw9bqazk0000001694382718712&qH=c64088b509a36013', 'https://www.flipkart.com/google-pixel-7a-snow-128-gb/p/itmb4d7b100b1a4d?pid=MOBGZCQMZXYXCZCH&lid=LSTMOBGZCQMZXYXCZCHXHSAGJ&marketplace=FLIPKART&q=pixel+4pixel+4pixel+4&store=tyy%2F4io&srno=s_1_7&otracker=search&otracker1=search&fm=organic&iid=7ec45355-97c8-4d01-918a-4bdafc592033.MOBGZCQMZXYXCZCH.SEARCH&ppt=hp&ppn=homepage&ssid=yvfw9bqazk0000001694382718712&qH=c64088b509a36013', 'https://www.flipkart.com/google-pixel-7-pro-snow-128-gb/p/itmb74dc5c3b3eb5?pid=MOBGHW44HHEMNGHW&lid=LSTMOBGHW44HHEMNGHWSCSMWJ&marketplace=FLIPKART&q=pixel+4pixel+4pixel+4&store=tyy%2F4io&srno=s_1_8&otracker=search&otracker1=search&fm=organic&iid=7ec45355-97c8-4d01-918a-4bdafc592033.MOBGHW44HHEMNGHW.SEARCH&ppt=hp&ppn=homepage&ssid=yvfw9bqazk0000001694382718712&qH=c64088b509a36013', 'https://www.flipkart.com/google-pixel-7-pro-hazel-128-gb/p/itmb74dc5c3b3eb5?pid=MOBGHW44Z6UPBQ9K&lid=LSTMOBGHW44Z6UPBQ9K6DNRGK&marketplace=FLIPKART&q=pixel+4pixel+4pixel+4&store=tyy%2F4io&srno=s_1_9&otracker=search&otracker1=search&fm=organic&iid=7ec45355-97c8-4d01-918a-4bdafc592033.MOBGHW44Z6UPBQ9K.SEARCH&ppt=hp&ppn=homepage&ssid=yvfw9bqazk0000001694382718712&qH=c64088b509a36013', 'https://www.flipkart.com/google-pixel-7-pro-obsidian-128-gb/p/itmb74dc5c3b3eb5?pid=MOBGHW44NRFHVRZY&lid=LSTMOBGHW44NRFHVRZYZBL0DS&marketplace=FLIPKART&q=pixel+4pixel+4pixel+4&store=tyy%2F4io&srno=s_1_10&otracker=search&otracker1=search&fm=organic&iid=7ec45355-97c8-4d01-918a-4bdafc592033.MOBGHW44NRFHVRZY.SEARCH&ppt=hp&ppn=homepage&ssid=yvfw9bqazk0000001694382718712&qH=c64088b509a36013', 'https://www.flipkart.com/lava-pixel-v1-android-one-white-32-gb/p/itme8nzvg9m26bxy?pid=MOBE8NZV2VHRZB3K&lid=LSTMOBE8NZV2VHRZB3KPS2BCK&marketplace=FLIPKART&q=pixel+4pixel+4pixel+4&store=tyy%2F4io&srno=s_1_11&otracker=search&otracker1=search&fm=organic&iid=7ec45355-97c8-4d01-918a-4bdafc592033.MOBE8NZV2VHRZB3K.SEARCH&ppt=hp&ppn=homepage&ssid=yvfw9bqazk0000001694382718712&qH=c64088b509a36013', 'https://www.flipkart.com/google-pixel-3-not-pink-128-gb/p/itmfbuyqxkruzg7j?pid=MOBF9GAPZPV9S3YH&lid=LSTMOBF9GAPZPV9S3YHFX0IAW&marketplace=FLIPKART&q=pixel+4pixel+4pixel+4&store=tyy%2F4io&srno=s_1_12&otracker=search&otracker1=search&fm=organic&iid=7ec45355-97c8-4d01-918a-4bdafc592033.MOBF9GAPZPV9S3YH.SEARCH&ppt=hp&ppn=homepage&ssid=yvfw9bqazk0000001694382718712&qH=c64088b509a36013', 'https://www.flipkart.com/google-pixel-2-xl-black-black-64-gb/p/itm15e9289d4c18a?pid=MOBGS7VRP7SJCHHN&lid=LSTMOBGS7VRP7SJCHHNSEB9O7&marketplace=FLIPKART&q=pixel+4pixel+4pixel+4&store=tyy%2F4io&srno=s_1_13&otracker=search&otracker1=search&fm=organic&iid=7ec45355-97c8-4d01-918a-4bdafc592033.MOBGS7VRP7SJCHHN.SEARCH&ppt=hp&ppn=homepage&ssid=yvfw9bqazk0000001694382718712&qH=c64088b509a36013', 'https://www.flipkart.com/google-pixel-3-xl-not-pink-64-gb/p/itmc09242e6f61de?pid=MOBGSSHZ5AXT7AFH&lid=LSTMOBGSSHZ5AXT7AFHV7NJG2&marketplace=FLIPKART&q=pixel+4pixel+4pixel+4&store=tyy%2F4io&srno=s_1_14&otracker=search&otracker1=search&fm=organic&iid=7ec45355-97c8-4d01-918a-4bdafc592033.MOBGSSHZ5AXT7AFH.SEARCH&ppt=hp&ppn=homepage&ssid=yvfw9bqazk0000001694382718712&qH=c64088b509a36013', 'https://www.flipkart.com/samsung-sm-b310ezddins/p/itm1085fbe90ba3b?pid=MOBFXZXGCNBAKUSA&lid=LSTMOBFXZXGCNBAKUSAQGOUMF&marketplace=FLIPKART&q=pixel+4pixel+4pixel+4&store=tyy%2F4io&srno=s_1_15&otracker=search&otracker1=search&fm=organic&iid=7ec45355-97c8-4d01-918a-4bdafc592033.MOBFXZXGCNBAKUSA.SEARCH&ppt=hp&ppn=homepage&ssid=yvfw9bqazk0000001694382718712&qH=c64088b509a36013', 'https://www.flipkart.com/realme-c53-champion-gold-64-gb/p/itm5df90168ecd05?pid=MOBGQY939DG9GBQ8&lid=LSTMOBGQY939DG9GBQ8XN2GK7&marketplace=FLIPKART&q=pixel+4pixel+4pixel+4&store=tyy%2F4io&spotlightTagId=BestsellerId_tyy%2F4io&srno=s_1_16&otracker=search&otracker1=search&fm=organic&iid=7ec45355-97c8-4d01-918a-4bdafc592033.MOBGQY939DG9GBQ8.SEARCH&ppt=hp&ppn=homepage&ssid=yvfw9bqazk0000001694382718712&qH=c64088b509a36013', 'https://www.flipkart.com/realme-c30-denim-black-32-gb/p/itmfcf69b2db5059?pid=MOBGF37G8TGKHFWJ&lid=LSTMOBGF37G8TGKHFWJIST95C&marketplace=FLIPKART&q=pixel+4pixel+4pixel+4&store=tyy%2F4io&srno=s_1_17&otracker=search&otracker1=search&fm=organic&iid=7ec45355-97c8-4d01-918a-4bdafc592033.MOBGF37G8TGKHFWJ.SEARCH&ppt=hp&ppn=homepage&ssid=yvfw9bqazk0000001694382718712&qH=c64088b509a36013', 'https://www.flipkart.com/realme-c30-lake-blue-32-gb/p/itmfcf69b2db5059?pid=MOBGF37GWT4TGVZM&lid=LSTMOBGF37GWT4TGVZM1IFYZO&marketplace=FLIPKART&q=pixel+4pixel+4pixel+4&store=tyy%2F4io&srno=s_1_18&otracker=search&otracker1=search&fm=organic&iid=7ec45355-97c8-4d01-918a-4bdafc592033.MOBGF37GWT4TGVZM.SEARCH&ppt=hp&ppn=homepage&ssid=yvfw9bqazk0000001694382718712&qH=c64088b509a36013', 'https://www.flipkart.com/realme-c30-denim-black-32-gb/p/itmfcf69b2db5059?pid=MOBGF37GMBMYRFBK&lid=LSTMOBGF37GMBMYRFBK6OQWPG&marketplace=FLIPKART&q=pixel+4pixel+4pixel+4&store=tyy%2F4io&srno=s_1_19&otracker=search&otracker1=search&fm=organic&iid=7ec45355-97c8-4d01-918a-4bdafc592033.MOBGF37GMBMYRFBK.SEARCH&ppt=hp&ppn=homepage&ssid=yvfw9bqazk0000001694382718712&qH=c64088b509a36013', 'https://www.flipkart.com/i-kall-k3310/p/itmevt8krrtzu2yx?pid=MOBG5UFKC3WHGVHG&lid=LSTMOBG5UFKC3WHGVHGQAKCNP&marketplace=FLIPKART&q=pixel+4pixel+4pixel+4&store=tyy%2F4io&srno=s_1_20&otracker=search&otracker1=search&fm=organic&iid=7ec45355-97c8-4d01-918a-4bdafc592033.MOBG5UFKC3WHGVHG.SEARCH&ppt=hp&ppn=homepage&ssid=yvfw9bqazk0000001694382718712&qH=c64088b509a36013', 'https://www.flipkart.com/kall-king-talking-contact-icon-auto-call-recording/p/itmc73ead9b310a3?pid=MOBGDFA2ENEFQ3RG&lid=LSTMOBGDFA2ENEFQ3RGVV67BP&marketplace=FLIPKART&q=pixel+4pixel+4pixel+4&store=tyy%2F4io&srno=s_1_21&otracker=search&otracker1=search&fm=organic&iid=7ec45355-97c8-4d01-918a-4bdafc592033.MOBGDFA2ENEFQ3RG.SEARCH&ppt=hp&ppn=homepage&ssid=yvfw9bqazk0000001694382718712&qH=c64088b509a36013', 'https://www.flipkart.com/motorola-edge-40-eclipse-black-256-gb/p/itmbe5b18bf1f229?pid=MOBGKHNBY3JZJHTB&lid=LSTMOBGKHNBY3JZJHTBAAOHOJ&marketplace=FLIPKART&q=pixel+4pixel+4pixel+4&store=tyy%2F4io&srno=s_1_22&otracker=search&otracker1=search&fm=organic&iid=7ec45355-97c8-4d01-918a-4bdafc592033.MOBGKHNBY3JZJHTB.SEARCH&ppt=hp&ppn=homepage&ssid=yvfw9bqazk0000001694382718712&qH=c64088b509a36013', 'https://www.flipkart.com/lvix-l1-310/p/itm54a6d31222e87?pid=MOBG95T2ZJDQMYJH&lid=LSTMOBG95T2ZJDQMYJH1HBR3V&marketplace=FLIPKART&q=pixel+4pixel+4pixel+4&store=tyy%2F4io&srno=s_1_23&otracker=search&otracker1=search&fm=organic&iid=7ec45355-97c8-4d01-918a-4bdafc592033.MOBG95T2ZJDQMYJH.SEARCH&ppt=hp&ppn=homepage&ssid=yvfw9bqazk0000001694382718712&qH=c64088b509a36013', 'https://www.flipkart.com/realme-10-pro-5g-hyperspace-128-gb/p/itm1e672d12a252e?pid=MOBGK8VHZPVGJCES&lid=LSTMOBGK8VHZPVGJCES9YRIWN&marketplace=FLIPKART&q=pixel+4pixel+4pixel+4&store=tyy%2F4io&srno=s_1_24&otracker=search&otracker1=search&fm=organic&iid=7ec45355-97c8-4d01-918a-4bdafc592033.MOBGK8VHZPVGJCES.SEARCH&ppt=hp&ppn=homepage&ssid=yvfw9bqazk0000001694382718712&qH=c64088b509a36013', 'https://www.flipkart.com/realme-10-pro-5g-nebula-blue-128-gb/p/itm1e672d12a252e?pid=MOBGK8VHHFY5VCAY&lid=LSTMOBGK8VHHFY5VCAYOXEXVI&marketplace=FLIPKART&q=pixel+4pixel+4pixel+4&store=tyy%2F4io&srno=s_2_25&otracker=search&otracker1=search&fm=Search&iid=06ff2742-5fcd-40e4-987f-66022ea3eefa.MOBGK8VHHFY5VCAY.SEARCH&ppt=sp&ppn=sp&ssid=yvfw9bqazk0000001694382718712&qH=c64088b509a36013', 'https://www.flipkart.com/realme-10-pro-5g-hyperspace-128-gb/p/itm1e672d12a252e?pid=MOBGK8VHECUBAZFA&lid=LSTMOBGK8VHECUBAZFAPQMQUM&marketplace=FLIPKART&q=pixel+4pixel+4pixel+4&store=tyy%2F4io&srno=s_2_26&otracker=search&otracker1=search&fm=Search&iid=06ff2742-5fcd-40e4-987f-66022ea3eefa.MOBGK8VHECUBAZFA.SEARCH&ppt=sp&ppn=sp&ssid=yvfw9bqazk0000001694382718712&qH=c64088b509a36013', 'https://www.flipkart.com/realme-10-pro-5g-dark-matter-128-gb/p/itm1e672d12a252e?pid=MOBGK8VHWBRKYFJD&lid=LSTMOBGK8VHWBRKYFJDTEBOFU&marketplace=FLIPKART&q=pixel+4pixel+4pixel+4&store=tyy%2F4io&srno=s_2_27&otracker=search&otracker1=search&fm=Search&iid=06ff2742-5fcd-40e4-987f-66022ea3eefa.MOBGK8VHWBRKYFJD.SEARCH&ppt=sp&ppn=sp&ssid=yvfw9bqazk0000001694382718712&qH=c64088b509a36013', 'https://www.flipkart.com/itel-it2175-keypad-mobile-1200-mah-battery-expandable-storage-upto-32gb/p/itm2f4983dbb4d01?pid=MOBGDGD6QGGH64VX&lid=LSTMOBGDGD6QGGH64VXJEIVKK&marketplace=FLIPKART&q=pixel+4pixel+4pixel+4&store=tyy%2F4io&srno=s_2_28&otracker=search&otracker1=search&fm=Search&iid=06ff2742-5fcd-40e4-987f-66022ea3eefa.MOBGDGD6QGGH64VX.SEARCH&ppt=sp&ppn=sp&ssid=yvfw9bqazk0000001694382718712&qH=c64088b509a36013', 'https://www.flipkart.com/itel-it2175-keypad-mobile-1200-mah-battery-expandable-storage-upto-32gb/p/itm2f4983dbb4d01?pid=MOBGDGD6XHUFTQJE&lid=LSTMOBGDGD6XHUFTQJEEIPT3V&marketplace=FLIPKART&q=pixel+4pixel+4pixel+4&store=tyy%2F4io&srno=s_2_29&otracker=search&otracker1=search&fm=Search&iid=06ff2742-5fcd-40e4-987f-66022ea3eefa.MOBGDGD6XHUFTQJE.SEARCH&ppt=sp&ppn=sp&ssid=yvfw9bqazk0000001694382718712&qH=c64088b509a36013', 'https://www.flipkart.com/lvix-l1-1702/p/itm97f4a9750cb5d?pid=MOBGC9YYYVESKBVM&lid=LSTMOBGC9YYYVESKBVMIBQZWE&marketplace=FLIPKART&q=pixel+4pixel+4pixel+4&store=tyy%2F4io&srno=s_2_30&otracker=search&otracker1=search&fm=Search&iid=06ff2742-5fcd-40e4-987f-66022ea3eefa.MOBGC9YYYVESKBVM.SEARCH&ppt=sp&ppn=sp&ssid=yvfw9bqazk0000001694382718712&qH=c64088b509a36013', 'https://www.flipkart.com/realme-10-pro-5g-dark-matter-128-gb/p/itmd32a2fec1fb60?pid=MOBGK8WZ6FQR4YCJ&lid=LSTMOBGK8WZ6FQR4YCJCLUGRD&marketplace=FLIPKART&q=pixel+4pixel+4pixel+4&store=tyy%2F4io&srno=s_2_31&otracker=search&otracker1=search&fm=Search&iid=06ff2742-5fcd-40e4-987f-66022ea3eefa.MOBGK8WZ6FQR4YCJ.SEARCH&ppt=sp&ppn=sp&ssid=yvfw9bqazk0000001694382718712&qH=c64088b509a36013', 'https://www.flipkart.com/motorola-edge-30-aurora-green-128-gb/p/itm365d09ff88e9f?pid=MOBGAKFYXEMTSPWM&lid=LSTMOBGAKFYXEMTSPWMXPSBRO&marketplace=FLIPKART&q=pixel+4pixel+4pixel+4&store=tyy%2F4io&srno=s_2_32&otracker=search&otracker1=search&fm=Search&iid=06ff2742-5fcd-40e4-987f-66022ea3eefa.MOBGAKFYXEMTSPWM.SEARCH&ppt=sp&ppn=sp&ssid=yvfw9bqazk0000001694382718712&qH=c64088b509a36013', 'https://www.flipkart.com/redmi-note-11-horizon-blue-128-gb/p/itm5cc0b8e0001d9?pid=MOBGHDXJVF6QJMJD&lid=LSTMOBGHDXJVF6QJMJDIODFAK&marketplace=FLIPKART&q=pixel+4pixel+4pixel+4&store=tyy%2F4io&srno=s_2_33&otracker=search&otracker1=search&fm=Search&iid=06ff2742-5fcd-40e4-987f-66022ea3eefa.MOBGHDXJVF6QJMJD.SEARCH&ppt=sp&ppn=sp&ssid=yvfw9bqazk0000001694382718712&qH=c64088b509a36013', 'https://www.flipkart.com/i-kall-k3310/p/itmevt8krrtzu2yx?pid=MOBG5UFBPHZPA38G&lid=LSTMOBG5UFBPHZPA38G0ZOWUC&marketplace=FLIPKART&q=pixel+4pixel+4pixel+4&store=tyy%2F4io&srno=s_2_34&otracker=search&otracker1=search&fm=Search&iid=06ff2742-5fcd-40e4-987f-66022ea3eefa.MOBG5UFBPHZPA38G.SEARCH&ppt=sp&ppn=sp&ssid=yvfw9bqazk0000001694382718712&qH=c64088b509a36013', 'https://www.flipkart.com/realme-10-pro-5g-hyperspace-128-gb/p/itmd32a2fec1fb60?pid=MOBGK8WZAAWCVVGZ&lid=LSTMOBGK8WZAAWCVVGZSRDO9R&marketplace=FLIPKART&q=pixel+4pixel+4pixel+4&store=tyy%2F4io&srno=s_2_35&otracker=search&otracker1=search&fm=Search&iid=06ff2742-5fcd-40e4-987f-66022ea3eefa.MOBGK8WZAAWCVVGZ.SEARCH&ppt=sp&ppn=sp&ssid=yvfw9bqazk0000001694382718712&qH=c64088b509a36013', 'https://www.flipkart.com/realme-10-pro-5g-hyperspace-128-gb/p/itmd32a2fec1fb60?pid=MOBGK8WZQJXDBDFF&lid=LSTMOBGK8WZQJXDBDFFRPKQRO&marketplace=FLIPKART&q=pixel+4pixel+4pixel+4&store=tyy%2F4io&srno=s_2_36&otracker=search&otracker1=search&fm=Search&iid=06ff2742-5fcd-40e4-987f-66022ea3eefa.MOBGK8WZQJXDBDFF.SEARCH&ppt=sp&ppn=sp&ssid=yvfw9bqazk0000001694382718712&qH=c64088b509a36013', 'https://www.flipkart.com/i-kall-k3310/p/itmevt8krrtzu2yx?pid=MOBG5UF3XH7G3EGP&lid=LSTMOBG5UF3XH7G3EGPOG6B6S&marketplace=FLIPKART&q=pixel+4pixel+4pixel+4&store=tyy%2F4io&srno=s_2_37&otracker=search&otracker1=search&fm=Search&iid=06ff2742-5fcd-40e4-987f-66022ea3eefa.MOBG5UF3XH7G3EGP.SEARCH&ppt=sp&ppn=sp&ssid=yvfw9bqazk0000001694382718712&qH=c64088b509a36013', 'https://www.flipkart.com/realme-10-pro-5g-nebula-blue-128-gb/p/itmd32a2fec1fb60?pid=MOBGK8WZDFASKVUN&lid=LSTMOBGK8WZDFASKVUNV3SCTE&marketplace=FLIPKART&q=pixel+4pixel+4pixel+4&store=tyy%2F4io&srno=s_2_38&otracker=search&otracker1=search&fm=Search&iid=06ff2742-5fcd-40e4-987f-66022ea3eefa.MOBGK8WZDFASKVUN.SEARCH&ppt=sp&ppn=sp&ssid=yvfw9bqazk0000001694382718712&qH=c64088b509a36013', 'https://www.flipkart.com/itel-it5026-keypad-mobile-1200-mah-battery-expandable-storage-upto-32gb/p/itm0da9b4ad3f613?pid=MOBFXMP7GSETA7RX&lid=LSTMOBFXMP7GSETA7RX7U1PN3&marketplace=FLIPKART&q=pixel+4pixel+4pixel+4&store=tyy%2F4io&srno=s_2_39&otracker=search&otracker1=search&fm=Search&iid=06ff2742-5fcd-40e4-987f-66022ea3eefa.MOBFXMP7GSETA7RX.SEARCH&ppt=sp&ppn=sp&ssid=yvfw9bqazk0000001694382718712&qH=c64088b509a36013', 'https://www.flipkart.com/infinix-smart-6-light-sea-green-64-gb/p/itmd4041ce33d262?pid=MOBGDC6HQJZKSX3K&lid=LSTMOBGDC6HQJZKSX3KUVADVY&marketplace=FLIPKART&q=pixel+4pixel+4pixel+4&store=tyy%2F4io&srno=s_2_40&otracker=search&otracker1=search&fm=Search&iid=06ff2742-5fcd-40e4-987f-66022ea3eefa.MOBGDC6HQJZKSX3K.SEARCH&ppt=sp&ppn=sp&ssid=yvfw9bqazk0000001694382718712&qH=c64088b509a36013', 'https://www.flipkart.com/motorola-edge-30-meteor-grey-128-gb/p/itmb93fab2af209f?pid=MOBGAKFYPFFYGUTP&lid=LSTMOBGAKFYPFFYGUTPQXPLKW&marketplace=FLIPKART&q=pixel+4pixel+4pixel+4&store=tyy%2F4io&srno=s_2_41&otracker=search&otracker1=search&fm=Search&iid=06ff2742-5fcd-40e4-987f-66022ea3eefa.MOBGAKFYPFFYGUTP.SEARCH&ppt=sp&ppn=sp&ssid=yvfw9bqazk0000001694382718712&qH=c64088b509a36013', 'https://www.flipkart.com/infinix-smart-6-polar-black-64-gb/p/itmd4041ce33d262?pid=MOBGDC6HZHYVX96A&lid=LSTMOBGDC6HZHYVX96AHNLOZE&marketplace=FLIPKART&q=pixel+4pixel+4pixel+4&store=tyy%2F4io&srno=s_2_42&otracker=search&otracker1=search&fm=Search&iid=06ff2742-5fcd-40e4-987f-66022ea3eefa.MOBGDC6HZHYVX96A.SEARCH&ppt=sp&ppn=sp&ssid=yvfw9bqazk0000001694382718712&qH=c64088b509a36013', 'https://www.flipkart.com/xtouch-f20-feature-phone-not-support-jio-sim/p/itm6b290092bb43c?pid=MOBGBF9YNZFXVUSV&lid=LSTMOBGBF9YNZFXVUSVC2TSAT&marketplace=FLIPKART&q=pixel+4pixel+4pixel+4&store=tyy%2F4io&srno=s_2_43&otracker=search&otracker1=search&fm=Search&iid=06ff2742-5fcd-40e4-987f-66022ea3eefa.MOBGBF9YNZFXVUSV.SEARCH&ppt=sp&ppn=sp&ssid=yvfw9bqazk0000001694382718712&qH=c64088b509a36013', 'https://www.flipkart.com/jmax-j06/p/itmf21b251bf55cf?pid=MOBG6UUESFHASG53&lid=LSTMOBG6UUESFHASG53AOUNKR&marketplace=FLIPKART&q=pixel+4pixel+4pixel+4&store=tyy%2F4io&srno=s_2_44&otracker=search&otracker1=search&fm=Search&iid=06ff2742-5fcd-40e4-987f-66022ea3eefa.MOBG6UUESFHASG53.SEARCH&ppt=sp&ppn=sp&ssid=yvfw9bqazk0000001694382718712&qH=c64088b509a36013', 'https://www.flipkart.com/kechaoda-k9/p/itmf3pw89weqvqu8?pid=MOBFQX49Y6ZXWYTS&lid=LSTMOBFQX49Y6ZXWYTSA4XYSH&marketplace=FLIPKART&q=pixel+4pixel+4pixel+4&store=tyy%2F4io&srno=s_2_45&otracker=search&otracker1=search&fm=Search&iid=06ff2742-5fcd-40e4-987f-66022ea3eefa.MOBFQX49Y6ZXWYTS.SEARCH&ppt=sp&ppn=sp&ssid=yvfw9bqazk0000001694382718712&qH=c64088b509a36013', 'https://www.flipkart.com/realme-gt-2-steel-black-128-gb/p/itmac4c08a9eb2da?pid=MOBGDAT7ATJAFSXZ&lid=LSTMOBGDAT7ATJAFSXZYNJKAX&marketplace=FLIPKART&q=pixel+4pixel+4pixel+4&store=tyy%2F4io&srno=s_2_46&otracker=search&otracker1=search&fm=Search&iid=06ff2742-5fcd-40e4-987f-66022ea3eefa.MOBGDAT7ATJAFSXZ.SEARCH&ppt=sp&ppn=sp&ssid=yvfw9bqazk0000001694382718712&qH=c64088b509a36013', 'https://www.flipkart.com/i-kall-k100/p/itm3fa8e764f8127?pid=MOBG68EHWXRC6QYF&lid=LSTMOBG68EHWXRC6QYFYIGKOD&marketplace=FLIPKART&q=pixel+4pixel+4pixel+4&store=tyy%2F4io&srno=s_2_47&otracker=search&otracker1=search&fm=Search&iid=06ff2742-5fcd-40e4-987f-66022ea3eefa.MOBG68EHWXRC6QYF.SEARCH&ppt=sp&ppn=sp&ssid=yvfw9bqazk0000001694382718712&qH=c64088b509a36013', 'https://www.flipkart.com/jmax-j06/p/itmf21b251bf55cf?pid=MOBG6UUGDAFZEXGR&lid=LSTMOBG6UUGDAFZEXGRAKBPCW&marketplace=FLIPKART&q=pixel+4pixel+4pixel+4&store=tyy%2F4io&srno=s_2_48&otracker=search&otracker1=search&fm=Search&iid=06ff2742-5fcd-40e4-987f-66022ea3eefa.MOBG6UUGDAFZEXGR.SEARCH&ppt=sp&ppn=sp&ssid=yvfw9bqazk0000001694382718712&qH=c64088b509a36013', 'https://www.flipkart.com/google-pixel-6a-chalk-128-gb/p/itme5ae89135d44e?pid=MOBGFWEZ5SKU84Z8&lid=LSTMOBGFWEZ5SKU84Z8FXPB45&marketplace=FLIPKART&q=pixel+4pixel+4pixel+4&store=tyy%2F4io&srno=s_1_1&otracker=search&otracker1=search&fm=Search&iid=5f5e1c6a-b399-49ef-bd43-c1528ab5feac.MOBGFWEZ5SKU84Z8.SEARCH&ppt=sp&ppn=sp&ssid=yvfw9bqazk0000001694382718712&qH=c64088b509a36013', 'https://www.flipkart.com/google-pixel-6a-charcoal-128-gb/p/itme5ae89135d44e?pid=MOBGFKX5YUXD74Z3&lid=LSTMOBGFKX5YUXD74Z3MXA2OB&marketplace=FLIPKART&q=pixel+4pixel+4pixel+4&store=tyy%2F4io&srno=s_1_2&otracker=search&otracker1=search&fm=Search&iid=5f5e1c6a-b399-49ef-bd43-c1528ab5feac.MOBGFKX5YUXD74Z3.SEARCH&ppt=sp&ppn=sp&ssid=yvfw9bqazk0000001694382718712&qH=c64088b509a36013', 'https://www.flipkart.com/google-pixel-7-snow-128-gb/p/itm45d75002be0e7?pid=MOBGHW44PRZ8WP2M&lid=LSTMOBGHW44PRZ8WP2MEGIXNO&marketplace=FLIPKART&q=pixel+4pixel+4pixel+4&store=tyy%2F4io&srno=s_1_3&otracker=search&otracker1=search&fm=Search&iid=5f5e1c6a-b399-49ef-bd43-c1528ab5feac.MOBGHW44PRZ8WP2M.SEARCH&ppt=sp&ppn=sp&ssid=yvfw9bqazk0000001694382718712&qH=c64088b509a36013', 'https://www.flipkart.com/google-pixel-7-lemongrass-128-gb/p/itm45d75002be0e7?pid=MOBGHW44ZSN5EPGU&lid=LSTMOBGHW44ZSN5EPGUVDQE3A&marketplace=FLIPKART&q=pixel+4pixel+4pixel+4&store=tyy%2F4io&srno=s_1_4&otracker=search&otracker1=search&fm=Search&iid=5f5e1c6a-b399-49ef-bd43-c1528ab5feac.MOBGHW44ZSN5EPGU.SEARCH&ppt=sp&ppn=sp&ssid=yvfw9bqazk0000001694382718712&qH=c64088b509a36013', 'https://www.flipkart.com/google-pixel-7-obsidian-128-gb/p/itm45d75002be0e7?pid=MOBGHW44NHFZJN6N&lid=LSTMOBGHW44NHFZJN6NICUEYB&marketplace=FLIPKART&q=pixel+4pixel+4pixel+4&store=tyy%2F4io&srno=s_1_5&otracker=search&otracker1=search&fm=Search&iid=5f5e1c6a-b399-49ef-bd43-c1528ab5feac.MOBGHW44NHFZJN6N.SEARCH&ppt=sp&ppn=sp&ssid=yvfw9bqazk0000001694382718712&qH=c64088b509a36013', 'https://www.flipkart.com/google-pixel-7a-sea-128-gb/p/itmb4d7b100b1a4d?pid=MOBGZCQM8PZEGRWU&lid=LSTMOBGZCQM8PZEGRWU0X8NQN&marketplace=FLIPKART&q=pixel+4pixel+4pixel+4&store=tyy%2F4io&srno=s_1_6&otracker=search&otracker1=search&fm=Search&iid=5f5e1c6a-b399-49ef-bd43-c1528ab5feac.MOBGZCQM8PZEGRWU.SEARCH&ppt=sp&ppn=sp&ssid=yvfw9bqazk0000001694382718712&qH=c64088b509a36013', 'https://www.flipkart.com/google-pixel-7a-snow-128-gb/p/itmb4d7b100b1a4d?pid=MOBGZCQMZXYXCZCH&lid=LSTMOBGZCQMZXYXCZCHXHSAGJ&marketplace=FLIPKART&q=pixel+4pixel+4pixel+4&store=tyy%2F4io&srno=s_1_7&otracker=search&otracker1=search&fm=Search&iid=5f5e1c6a-b399-49ef-bd43-c1528ab5feac.MOBGZCQMZXYXCZCH.SEARCH&ppt=sp&ppn=sp&ssid=yvfw9bqazk0000001694382718712&qH=c64088b509a36013', 'https://www.flipkart.com/google-pixel-7-pro-snow-128-gb/p/itmb74dc5c3b3eb5?pid=MOBGHW44HHEMNGHW&lid=LSTMOBGHW44HHEMNGHWSCSMWJ&marketplace=FLIPKART&q=pixel+4pixel+4pixel+4&store=tyy%2F4io&srno=s_1_8&otracker=search&otracker1=search&fm=Search&iid=5f5e1c6a-b399-49ef-bd43-c1528ab5feac.MOBGHW44HHEMNGHW.SEARCH&ppt=sp&ppn=sp&ssid=yvfw9bqazk0000001694382718712&qH=c64088b509a36013', 'https://www.flipkart.com/google-pixel-7-pro-hazel-128-gb/p/itmb74dc5c3b3eb5?pid=MOBGHW44Z6UPBQ9K&lid=LSTMOBGHW44Z6UPBQ9K6DNRGK&marketplace=FLIPKART&q=pixel+4pixel+4pixel+4&store=tyy%2F4io&srno=s_1_9&otracker=search&otracker1=search&fm=Search&iid=5f5e1c6a-b399-49ef-bd43-c1528ab5feac.MOBGHW44Z6UPBQ9K.SEARCH&ppt=sp&ppn=sp&ssid=yvfw9bqazk0000001694382718712&qH=c64088b509a36013', 'https://www.flipkart.com/google-pixel-7-pro-obsidian-128-gb/p/itmb74dc5c3b3eb5?pid=MOBGHW44NRFHVRZY&lid=LSTMOBGHW44NRFHVRZYZBL0DS&marketplace=FLIPKART&q=pixel+4pixel+4pixel+4&store=tyy%2F4io&srno=s_1_10&otracker=search&otracker1=search&fm=Search&iid=5f5e1c6a-b399-49ef-bd43-c1528ab5feac.MOBGHW44NRFHVRZY.SEARCH&ppt=sp&ppn=sp&ssid=yvfw9bqazk0000001694382718712&qH=c64088b509a36013', 'https://www.flipkart.com/lava-pixel-v1-android-one-white-32-gb/p/itme8nzvg9m26bxy?pid=MOBE8NZV2VHRZB3K&lid=LSTMOBE8NZV2VHRZB3KPS2BCK&marketplace=FLIPKART&q=pixel+4pixel+4pixel+4&store=tyy%2F4io&srno=s_1_11&otracker=search&otracker1=search&fm=Search&iid=5f5e1c6a-b399-49ef-bd43-c1528ab5feac.MOBE8NZV2VHRZB3K.SEARCH&ppt=sp&ppn=sp&ssid=yvfw9bqazk0000001694382718712&qH=c64088b509a36013', 'https://www.flipkart.com/google-pixel-3-not-pink-128-gb/p/itmfbuyqxkruzg7j?pid=MOBF9GAPZPV9S3YH&lid=LSTMOBF9GAPZPV9S3YHFX0IAW&marketplace=FLIPKART&q=pixel+4pixel+4pixel+4&store=tyy%2F4io&srno=s_1_12&otracker=search&otracker1=search&fm=Search&iid=5f5e1c6a-b399-49ef-bd43-c1528ab5feac.MOBF9GAPZPV9S3YH.SEARCH&ppt=sp&ppn=sp&ssid=yvfw9bqazk0000001694382718712&qH=c64088b509a36013', 'https://www.flipkart.com/google-pixel-2-xl-black-black-64-gb/p/itm15e9289d4c18a?pid=MOBGS7VRP7SJCHHN&lid=LSTMOBGS7VRP7SJCHHNSEB9O7&marketplace=FLIPKART&q=pixel+4pixel+4pixel+4&store=tyy%2F4io&srno=s_1_13&otracker=search&otracker1=search&fm=Search&iid=5f5e1c6a-b399-49ef-bd43-c1528ab5feac.MOBGS7VRP7SJCHHN.SEARCH&ppt=sp&ppn=sp&ssid=yvfw9bqazk0000001694382718712&qH=c64088b509a36013', 'https://www.flipkart.com/google-pixel-3-xl-not-pink-64-gb/p/itmc09242e6f61de?pid=MOBGSSHZ5AXT7AFH&lid=LSTMOBGSSHZ5AXT7AFHV7NJG2&marketplace=FLIPKART&q=pixel+4pixel+4pixel+4&store=tyy%2F4io&srno=s_1_14&otracker=search&otracker1=search&fm=Search&iid=5f5e1c6a-b399-49ef-bd43-c1528ab5feac.MOBGSSHZ5AXT7AFH.SEARCH&ppt=sp&ppn=sp&ssid=yvfw9bqazk0000001694382718712&qH=c64088b509a36013', 'https://www.flipkart.com/samsung-sm-b310ezddins/p/itm1085fbe90ba3b?pid=MOBFXZXGCNBAKUSA&lid=LSTMOBFXZXGCNBAKUSAQGOUMF&marketplace=FLIPKART&q=pixel+4pixel+4pixel+4&store=tyy%2F4io&srno=s_1_15&otracker=search&otracker1=search&fm=Search&iid=5f5e1c6a-b399-49ef-bd43-c1528ab5feac.MOBFXZXGCNBAKUSA.SEARCH&ppt=sp&ppn=sp&ssid=yvfw9bqazk0000001694382718712&qH=c64088b509a36013', 'https://www.flipkart.com/realme-c53-champion-gold-64-gb/p/itm5df90168ecd05?pid=MOBGQY939DG9GBQ8&lid=LSTMOBGQY939DG9GBQ8XN2GK7&marketplace=FLIPKART&q=pixel+4pixel+4pixel+4&store=tyy%2F4io&spotlightTagId=BestsellerId_tyy%2F4io&srno=s_1_16&otracker=search&otracker1=search&fm=Search&iid=5f5e1c6a-b399-49ef-bd43-c1528ab5feac.MOBGQY939DG9GBQ8.SEARCH&ppt=sp&ppn=sp&ssid=yvfw9bqazk0000001694382718712&qH=c64088b509a36013', 'https://www.flipkart.com/realme-c30-denim-black-32-gb/p/itmfcf69b2db5059?pid=MOBGF37G8TGKHFWJ&lid=LSTMOBGF37G8TGKHFWJIST95C&marketplace=FLIPKART&q=pixel+4pixel+4pixel+4&store=tyy%2F4io&srno=s_1_17&otracker=search&otracker1=search&fm=Search&iid=5f5e1c6a-b399-49ef-bd43-c1528ab5feac.MOBGF37G8TGKHFWJ.SEARCH&ppt=sp&ppn=sp&ssid=yvfw9bqazk0000001694382718712&qH=c64088b509a36013', 'https://www.flipkart.com/realme-c30-lake-blue-32-gb/p/itmfcf69b2db5059?pid=MOBGF37GWT4TGVZM&lid=LSTMOBGF37GWT4TGVZM1IFYZO&marketplace=FLIPKART&q=pixel+4pixel+4pixel+4&store=tyy%2F4io&srno=s_1_18&otracker=search&otracker1=search&fm=Search&iid=5f5e1c6a-b399-49ef-bd43-c1528ab5feac.MOBGF37GWT4TGVZM.SEARCH&ppt=sp&ppn=sp&ssid=yvfw9bqazk0000001694382718712&qH=c64088b509a36013', 'https://www.flipkart.com/realme-c30-denim-black-32-gb/p/itmfcf69b2db5059?pid=MOBGF37GMBMYRFBK&lid=LSTMOBGF37GMBMYRFBK6OQWPG&marketplace=FLIPKART&q=pixel+4pixel+4pixel+4&store=tyy%2F4io&srno=s_1_19&otracker=search&otracker1=search&fm=Search&iid=5f5e1c6a-b399-49ef-bd43-c1528ab5feac.MOBGF37GMBMYRFBK.SEARCH&ppt=sp&ppn=sp&ssid=yvfw9bqazk0000001694382718712&qH=c64088b509a36013', 'https://www.flipkart.com/i-kall-k3310/p/itmevt8krrtzu2yx?pid=MOBG5UFKC3WHGVHG&lid=LSTMOBG5UFKC3WHGVHGQAKCNP&marketplace=FLIPKART&q=pixel+4pixel+4pixel+4&store=tyy%2F4io&srno=s_1_20&otracker=search&otracker1=search&fm=Search&iid=5f5e1c6a-b399-49ef-bd43-c1528ab5feac.MOBG5UFKC3WHGVHG.SEARCH&ppt=sp&ppn=sp&ssid=yvfw9bqazk0000001694382718712&qH=c64088b509a36013', 'https://www.flipkart.com/kall-king-talking-contact-icon-auto-call-recording/p/itmc73ead9b310a3?pid=MOBGDFA2ENEFQ3RG&lid=LSTMOBGDFA2ENEFQ3RGVV67BP&marketplace=FLIPKART&q=pixel+4pixel+4pixel+4&store=tyy%2F4io&srno=s_1_21&otracker=search&otracker1=search&fm=Search&iid=5f5e1c6a-b399-49ef-bd43-c1528ab5feac.MOBGDFA2ENEFQ3RG.SEARCH&ppt=sp&ppn=sp&ssid=yvfw9bqazk0000001694382718712&qH=c64088b509a36013', 'https://www.flipkart.com/motorola-edge-40-eclipse-black-256-gb/p/itmbe5b18bf1f229?pid=MOBGKHNBY3JZJHTB&lid=LSTMOBGKHNBY3JZJHTBAAOHOJ&marketplace=FLIPKART&q=pixel+4pixel+4pixel+4&store=tyy%2F4io&srno=s_1_22&otracker=search&otracker1=search&fm=Search&iid=5f5e1c6a-b399-49ef-bd43-c1528ab5feac.MOBGKHNBY3JZJHTB.SEARCH&ppt=sp&ppn=sp&ssid=yvfw9bqazk0000001694382718712&qH=c64088b509a36013', 'https://www.flipkart.com/lvix-l1-310/p/itm54a6d31222e87?pid=MOBG95T2ZJDQMYJH&lid=LSTMOBG95T2ZJDQMYJH1HBR3V&marketplace=FLIPKART&q=pixel+4pixel+4pixel+4&store=tyy%2F4io&srno=s_1_23&otracker=search&otracker1=search&fm=Search&iid=5f5e1c6a-b399-49ef-bd43-c1528ab5feac.MOBG95T2ZJDQMYJH.SEARCH&ppt=sp&ppn=sp&ssid=yvfw9bqazk0000001694382718712&qH=c64088b509a36013', 'https://www.flipkart.com/realme-10-pro-5g-hyperspace-128-gb/p/itm1e672d12a252e?pid=MOBGK8VHZPVGJCES&lid=LSTMOBGK8VHZPVGJCES9YRIWN&marketplace=FLIPKART&q=pixel+4pixel+4pixel+4&store=tyy%2F4io&srno=s_1_24&otracker=search&otracker1=search&fm=Search&iid=5f5e1c6a-b399-49ef-bd43-c1528ab5feac.MOBGK8VHZPVGJCES.SEARCH&ppt=sp&ppn=sp&ssid=yvfw9bqazk0000001694382718712&qH=c64088b509a36013']\n"
     ]
    }
   ],
   "source": [
    "print(product_url)"
   ]
  },
  {
   "cell_type": "code",
   "execution_count": 23,
   "id": "3bbd7ef4",
   "metadata": {},
   "outputs": [],
   "source": [
    "# open the product to access all scrape requirement \n",
    "product_page=driver.find_element(By.XPATH,\"/html/body/div/div/div[3]/div[1]/div[2]/div[2]/div/div/div/a\")\n",
    "product_page.click()"
   ]
  },
  {
   "cell_type": "code",
   "execution_count": 25,
   "id": "3e623a6b",
   "metadata": {},
   "outputs": [
    {
     "ename": "AttributeError",
     "evalue": "'list' object has no attribute 'text'",
     "output_type": "error",
     "traceback": [
      "\u001b[1;31m---------------------------------------------------------------------------\u001b[0m",
      "\u001b[1;31mAttributeError\u001b[0m                            Traceback (most recent call last)",
      "\u001b[1;32m~\\AppData\\Local\\Temp\\ipykernel_11608\\2587223109.py\u001b[0m in \u001b[0;36m<module>\u001b[1;34m\u001b[0m\n\u001b[0;32m     46\u001b[0m     \u001b[1;32mtry\u001b[0m\u001b[1;33m:\u001b[0m\u001b[1;33m\u001b[0m\u001b[1;33m\u001b[0m\u001b[0m\n\u001b[0;32m     47\u001b[0m         \u001b[0mcamera\u001b[0m\u001b[1;33m=\u001b[0m\u001b[0mdriver\u001b[0m\u001b[1;33m.\u001b[0m\u001b[0mfind_elements\u001b[0m\u001b[1;33m(\u001b[0m\u001b[0mBy\u001b[0m\u001b[1;33m.\u001b[0m\u001b[0mXPATH\u001b[0m\u001b[1;33m,\u001b[0m\u001b[1;34m'//div[@class=\"_2418kt\"]//li[3]'\u001b[0m\u001b[1;33m)\u001b[0m \u001b[1;31m# for Primary camera\u001b[0m\u001b[1;33m\u001b[0m\u001b[1;33m\u001b[0m\u001b[0m\n\u001b[1;32m---> 48\u001b[1;33m         \u001b[0mprimary_secondary_camera\u001b[0m\u001b[1;33m.\u001b[0m\u001b[0mappend\u001b[0m\u001b[1;33m(\u001b[0m\u001b[0mcamera\u001b[0m\u001b[1;33m.\u001b[0m\u001b[0mtext\u001b[0m\u001b[1;33m)\u001b[0m\u001b[1;33m\u001b[0m\u001b[1;33m\u001b[0m\u001b[0m\n\u001b[0m\u001b[0;32m     49\u001b[0m     \u001b[1;32mexcept\u001b[0m \u001b[0mNoSuchElementException\u001b[0m\u001b[1;33m:\u001b[0m\u001b[1;33m\u001b[0m\u001b[1;33m\u001b[0m\u001b[0m\n\u001b[0;32m     50\u001b[0m         \u001b[0mprimary_secondary_camera\u001b[0m\u001b[1;33m.\u001b[0m\u001b[0mappend\u001b[0m\u001b[1;33m(\u001b[0m\u001b[1;34m'-'\u001b[0m\u001b[1;33m)\u001b[0m\u001b[1;33m\u001b[0m\u001b[1;33m\u001b[0m\u001b[0m\n",
      "\u001b[1;31mAttributeError\u001b[0m: 'list' object has no attribute 'text'"
     ]
    }
   ],
   "source": [
    "# fetching Brand name \n",
    "brand_name=[]\n",
    "smart_phone_name=[]\n",
    "Colour=[]\n",
    "Ram=[]\n",
    "Storage_rom=[]\n",
    "primary_secondary_camera=[]\n",
    "display_size=[]\n",
    "battery_capacity=[]\n",
    "Price=[]\n",
    "for url in product_url:      # loop for every women in the list\n",
    "    driver.get(url)\n",
    "    time.sleep(2)\n",
    "    \n",
    "    try:\n",
    "        brand=driver.find_element(By.XPATH,'//table[@class=\"_14cfVK\"][1]//tr[3]//li') # for brand name \n",
    "        brand_name.append(brand.text)\n",
    "    except NoSuchElementException:\n",
    "        brand_name.append('-') \n",
    "        \n",
    "    try:\n",
    "        product=driver.find_element(By.XPATH,'//span[@class=\"B_NuCI\"]')\n",
    "        smart_phone_name.append(product.text)\n",
    "    except NoSuchElementException:\n",
    "        smart_phone_name.append('-')\n",
    "        \n",
    "    try:\n",
    "        colour=driver.find_element(By.XPATH,'//table[@class=\"_14cfVK\"]//tr[4]')# for color\n",
    "        Colour.append(colour.text)\n",
    "    except NoSuchElementException:\n",
    "        Colour.append('-')\n",
    "        \n",
    "    try:\n",
    "        ram=driver.find_element(By.XPATH,'//li[@id=\"swatch-1-ram\"]') # for return/exchange\n",
    "        Ram.append(ram.text)\n",
    "    except NoSuchElementException:\n",
    "        Ram.append('-')\n",
    "        \n",
    "    try:\n",
    "        storage=driver.find_element(By.XPATH,'//a[@class=\"_1fGeJ5 PP89tw\"]')# for storage\n",
    "        Storage_rom.append(storage.text)\n",
    "    except NoSuchElementException:\n",
    "        Storage_rom.append('-')\n",
    "    \n",
    "    \n",
    "    try:\n",
    "        camera=driver.find_elements(By.XPATH,'//div[@class=\"_2418kt\"]//li[3]') # for Primary camera \n",
    "        primary_secondary_camera.append(camera.text)\n",
    "    except NoSuchElementException:\n",
    "        primary_secondary_camera.append('-')\n",
    "        \n",
    "        \n",
    "  \n",
    "    try:\n",
    "        size=driver.find_element(By.XPATH,'//div[@class=\"_2418kt\"]//li[2]') # for display size \n",
    "        display_size.append(size.text)\n",
    "    except NoSuchElementException:\n",
    "        display_size.append('-')\n",
    "        \n",
    "    try:\n",
    "        battery=driver.find_element(By.XPATH,'//div[@class=\"_2418kt\"]//li[4]') # Battery\n",
    "        battery_capacity.append(battery.text)\n",
    "    except NoSuchElementException:\n",
    "        battery_capacity.append('-')\n",
    "        \n",
    "    try:\n",
    "        price=driver.find_element(By.XPATH,'//div[@class=\"_30jeq3 _16Jk6d\"]') # price\n",
    "        Price.append(price.text)\n",
    "    except NoSuchElementException:\n",
    "        Price.append('-')"
   ]
  },
  {
   "cell_type": "code",
   "execution_count": null,
   "id": "f47f4c02",
   "metadata": {},
   "outputs": [],
   "source": []
  },
  {
   "cell_type": "code",
   "execution_count": null,
   "id": "0bb8598f",
   "metadata": {},
   "outputs": [],
   "source": []
  },
  {
   "cell_type": "code",
   "execution_count": null,
   "id": "1e6a1530",
   "metadata": {},
   "outputs": [],
   "source": []
  },
  {
   "cell_type": "code",
   "execution_count": null,
   "id": "5df6a198",
   "metadata": {},
   "outputs": [],
   "source": []
  },
  {
   "cell_type": "code",
   "execution_count": null,
   "id": "2127a8b6",
   "metadata": {},
   "outputs": [],
   "source": []
  },
  {
   "cell_type": "code",
   "execution_count": null,
   "id": "c447984b",
   "metadata": {},
   "outputs": [],
   "source": []
  },
  {
   "cell_type": "markdown",
   "id": "55fb1ee7",
   "metadata": {},
   "source": [
    "QUESTION 6 \n",
    "\n",
    "Write a program to scrap all the available details of best gaming laptops from digit.in. "
   ]
  },
  {
   "cell_type": "code",
   "execution_count": 26,
   "id": "3e3b141f",
   "metadata": {},
   "outputs": [],
   "source": [
    "driver = webdriver.Chrome()\n",
    "##Opening the digit.in page on automated chrome broswer\n",
    "driver.get(\"https://www.digit.in/\")"
   ]
  },
  {
   "cell_type": "code",
   "execution_count": 28,
   "id": "a906ff4f",
   "metadata": {},
   "outputs": [],
   "source": [
    "# open top 10s\n",
    "search_top_10s= driver.find_element(By.XPATH,\"/html/body/div[1]/div/div[4]/ul/li[4]/a\")\n",
    "search_top_10s.click()"
   ]
  },
  {
   "cell_type": "code",
   "execution_count": 29,
   "id": "f6f47fb6",
   "metadata": {},
   "outputs": [],
   "source": [
    "# opening on best gamimg laptop\n",
    "search_best= driver.find_element(By.XPATH,\"/html/body/div[5]/div/div/div[3]/div/div[3]/div[1]/a/h4\")\n",
    "search_best.click()"
   ]
  },
  {
   "cell_type": "code",
   "execution_count": null,
   "id": "35708fda",
   "metadata": {},
   "outputs": [],
   "source": [
    "# opening on best gamimg laptop india \n",
    "search_best_game_lp_in= driver.find_element(By.XPATH,\"/html/body/div[2]/div/ul/li[2]/div[2]/div/div[5]/div/div[2]\")\n",
    "search_best_game_lp_in.click()"
   ]
  },
  {
   "cell_type": "code",
   "execution_count": 30,
   "id": "fca405f9",
   "metadata": {},
   "outputs": [],
   "source": [
    "# Top Best gaming laptop in  India \n",
    "best_gaming_lp=[]\n",
    "tags=driver.find_elements(By.XPATH,'//span[@class=\"datahreflink\"]//h3')\n",
    "for i in tags:\n",
    "    best_gaming_lp.append(i.text)"
   ]
  },
  {
   "cell_type": "code",
   "execution_count": 31,
   "id": "bfc95334",
   "metadata": {},
   "outputs": [
    {
     "data": {
      "text/html": [
       "<div>\n",
       "<style scoped>\n",
       "    .dataframe tbody tr th:only-of-type {\n",
       "        vertical-align: middle;\n",
       "    }\n",
       "\n",
       "    .dataframe tbody tr th {\n",
       "        vertical-align: top;\n",
       "    }\n",
       "\n",
       "    .dataframe thead th {\n",
       "        text-align: right;\n",
       "    }\n",
       "</style>\n",
       "<table border=\"1\" class=\"dataframe\">\n",
       "  <thead>\n",
       "    <tr style=\"text-align: right;\">\n",
       "      <th></th>\n",
       "      <th>Best Gaming Laptop In India</th>\n",
       "    </tr>\n",
       "  </thead>\n",
       "  <tbody>\n",
       "    <tr>\n",
       "      <th>0</th>\n",
       "      <td>Apple MacBook Air M2</td>\n",
       "    </tr>\n",
       "    <tr>\n",
       "      <th>1</th>\n",
       "      <td>Galaxy Book3 Pro 360</td>\n",
       "    </tr>\n",
       "    <tr>\n",
       "      <th>2</th>\n",
       "      <td>LG Gram 17</td>\n",
       "    </tr>\n",
       "    <tr>\n",
       "      <th>3</th>\n",
       "      <td>Lenovo Yoga 9i</td>\n",
       "    </tr>\n",
       "    <tr>\n",
       "      <th>4</th>\n",
       "      <td>Dell XPS 13 Plus</td>\n",
       "    </tr>\n",
       "    <tr>\n",
       "      <th>5</th>\n",
       "      <td>Acer Swift X</td>\n",
       "    </tr>\n",
       "  </tbody>\n",
       "</table>\n",
       "</div>"
      ],
      "text/plain": [
       "  Best Gaming Laptop In India\n",
       "0        Apple MacBook Air M2\n",
       "1        Galaxy Book3 Pro 360\n",
       "2                  LG Gram 17\n",
       "3              Lenovo Yoga 9i\n",
       "4            Dell XPS 13 Plus\n",
       "5                Acer Swift X"
      ]
     },
     "execution_count": 31,
     "metadata": {},
     "output_type": "execute_result"
    }
   ],
   "source": [
    "df=pd.DataFrame({'Best Gaming Laptop In India': best_gaming_lp})\n",
    "df"
   ]
  },
  {
   "cell_type": "code",
   "execution_count": null,
   "id": "4e0757ee",
   "metadata": {},
   "outputs": [],
   "source": []
  },
  {
   "cell_type": "markdown",
   "id": "fd6b4a6a",
   "metadata": {},
   "source": [
    "QUESTION 7\n",
    "Write a python program to scrape the details for all billionaires from www.forbes.com. Details to be scrapped:\n",
    "“Rank”, “Name”, “Net worth”, “Age”, “Citizenship”, “Source”, “Industry”. v"
   ]
  },
  {
   "cell_type": "code",
   "execution_count": 32,
   "id": "0dd2f94f",
   "metadata": {},
   "outputs": [],
   "source": [
    "driver = webdriver.Chrome()\n",
    "##Opening the forbes.com page on automated chrome broswer\n",
    "driver.get(\"https://forbes.com/\")"
   ]
  },
  {
   "cell_type": "code",
   "execution_count": 44,
   "id": "e8bb9a78",
   "metadata": {},
   "outputs": [],
   "source": [
    "# opening on the search button\n",
    "search_click= driver.find_element(By.XPATH,\"/html/body/div[1]/header/nav/div[1]/div[1]/div/div[2]/ul/li[2]/div[1]\")\n",
    "search_click.click()"
   ]
  },
  {
   "cell_type": "code",
   "execution_count": 47,
   "id": "6c314a96",
   "metadata": {},
   "outputs": [],
   "source": [
    "# opening billionaire \n",
    "\n",
    "billionaire= driver.find_element(By.XPATH,\"/html/body/div[1]/header/nav/div[1]/div[1]/div/div[2]/ul/li[2]/div[2]/div[3]/ul/li[1]/a\")\n",
    "billionaire.click()"
   ]
  },
  {
   "cell_type": "code",
   "execution_count": null,
   "id": "411f3d37",
   "metadata": {},
   "outputs": [],
   "source": [
    "# opening world billionaire table\n",
    "# opening billionaire \n",
    "\n",
    "world_billionaire= driver.find_element(By.XPATH,\"/html/body/div[1]/header/nav/div[1]/div[1]/div/div[2]/ul/li[2]/div[2]/div[3]/ul/li[1]/a\")\n",
    "world_billionaire.click()"
   ]
  },
  {
   "cell_type": "code",
   "execution_count": 48,
   "id": "282a69c6",
   "metadata": {},
   "outputs": [],
   "source": [
    "# scraping all requirements with  product url link \n",
    "Rank=[]\n",
    "Name=[]\n",
    "Net_worth=[]\n",
    "Age=[]\n",
    "Citizenship=[]\n",
    "Source=[]\n",
    "Industry=[]\n",
    "\n",
    "tags_rank=driver.find_elements(By.XPATH,'//div[@role=\"cell\"][1]')\n",
    "for i in tags_rank:\n",
    "    try:\n",
    "        Rank.append(i.text)\n",
    "    except NoSuchElementException:\n",
    "        Rank.append('-')\n",
    "        \n",
    "tags_name=driver.find_elements(By.XPATH,' //div[@role=\"cell\"][2]')\n",
    "for i in tags_name:\n",
    "    try:\n",
    "        Name.append(i.text)\n",
    "    except NoSuchElementException:\n",
    "        Name.append('-')\n",
    "        \n",
    "tags_nw=driver.find_elements(By.XPATH,' //div[@role=\"cell\"][3]')\n",
    "for i in tags_nw:\n",
    "    try:\n",
    "        Net_worth.append(i.text)\n",
    "    except NoSuchElementException:\n",
    "        Net_worth.append('-')\n",
    "        \n",
    "        \n",
    "tags_age=driver.find_elements(By.XPATH,' //div[@role=\"cell\"][4]')\n",
    "for i in tags_age:\n",
    "    try:\n",
    "        Age.append(i.text)\n",
    "    except NoSuchElementException:\n",
    "        Age.append('-')\n",
    "       \n",
    "            \n",
    "tags_citizenship=driver.find_elements(By.XPATH,' //div[@role=\"cell\"][5]')\n",
    "for i in tags_citizenship:\n",
    "    try:\n",
    "        Citizenship.append(i.text)\n",
    "    except NoSuchElementException:\n",
    "        Citizenship.append('-')\n",
    "        \n",
    "tags_source=driver.find_elements(By.XPATH,' //div[@role=\"cell\"][6]')\n",
    "for i in tags_source:\n",
    "    try:\n",
    "        Source.append(i.text)\n",
    "    except NoSuchElementException:\n",
    "        Source.append('-')\n",
    "        \n",
    "tags_industry=driver.find_elements(By.XPATH,' //div[@role=\"cell\"][7]')\n",
    "for i in tags_industry:\n",
    "    try:\n",
    "        Industry.append(i.text)\n",
    "    except NoSuchElementException:\n",
    "        Industry.append('-')"
   ]
  },
  {
   "cell_type": "code",
   "execution_count": 49,
   "id": "945f1a51",
   "metadata": {},
   "outputs": [
    {
     "data": {
      "text/html": [
       "<div>\n",
       "<style scoped>\n",
       "    .dataframe tbody tr th:only-of-type {\n",
       "        vertical-align: middle;\n",
       "    }\n",
       "\n",
       "    .dataframe tbody tr th {\n",
       "        vertical-align: top;\n",
       "    }\n",
       "\n",
       "    .dataframe thead th {\n",
       "        text-align: right;\n",
       "    }\n",
       "</style>\n",
       "<table border=\"1\" class=\"dataframe\">\n",
       "  <thead>\n",
       "    <tr style=\"text-align: right;\">\n",
       "      <th></th>\n",
       "      <th>Rank</th>\n",
       "      <th>Name</th>\n",
       "      <th>Net Worth</th>\n",
       "      <th>Age</th>\n",
       "      <th>Country</th>\n",
       "      <th>Source</th>\n",
       "      <th>Industry</th>\n",
       "    </tr>\n",
       "  </thead>\n",
       "  <tbody>\n",
       "    <tr>\n",
       "      <th>0</th>\n",
       "      <td>1</td>\n",
       "      <td>Bernard Arnault &amp; family</td>\n",
       "      <td>$211 B</td>\n",
       "      <td>74</td>\n",
       "      <td>France</td>\n",
       "      <td>LVMH</td>\n",
       "      <td>Fashion &amp; Retail</td>\n",
       "    </tr>\n",
       "    <tr>\n",
       "      <th>1</th>\n",
       "      <td>2</td>\n",
       "      <td>Elon Musk</td>\n",
       "      <td>$180 B</td>\n",
       "      <td>51</td>\n",
       "      <td>United States</td>\n",
       "      <td>Tesla, SpaceX</td>\n",
       "      <td>Automotive</td>\n",
       "    </tr>\n",
       "    <tr>\n",
       "      <th>2</th>\n",
       "      <td>3</td>\n",
       "      <td>Jeff Bezos</td>\n",
       "      <td>$114 B</td>\n",
       "      <td>59</td>\n",
       "      <td>United States</td>\n",
       "      <td>Amazon</td>\n",
       "      <td>Technology</td>\n",
       "    </tr>\n",
       "    <tr>\n",
       "      <th>3</th>\n",
       "      <td>4</td>\n",
       "      <td>Larry Ellison</td>\n",
       "      <td>$107 B</td>\n",
       "      <td>78</td>\n",
       "      <td>United States</td>\n",
       "      <td>Oracle</td>\n",
       "      <td>Technology</td>\n",
       "    </tr>\n",
       "    <tr>\n",
       "      <th>4</th>\n",
       "      <td>5</td>\n",
       "      <td>Warren Buffett</td>\n",
       "      <td>$106 B</td>\n",
       "      <td>92</td>\n",
       "      <td>United States</td>\n",
       "      <td>Berkshire Hathaway</td>\n",
       "      <td>Finance &amp; Investments</td>\n",
       "    </tr>\n",
       "    <tr>\n",
       "      <th>...</th>\n",
       "      <td>...</td>\n",
       "      <td>...</td>\n",
       "      <td>...</td>\n",
       "      <td>...</td>\n",
       "      <td>...</td>\n",
       "      <td>...</td>\n",
       "      <td>...</td>\n",
       "    </tr>\n",
       "    <tr>\n",
       "      <th>195</th>\n",
       "      <td>195</td>\n",
       "      <td>Jin Baofang</td>\n",
       "      <td>$9.6 B</td>\n",
       "      <td>70</td>\n",
       "      <td>China</td>\n",
       "      <td>Solar panels</td>\n",
       "      <td>Energy</td>\n",
       "    </tr>\n",
       "    <tr>\n",
       "      <th>196</th>\n",
       "      <td>195</td>\n",
       "      <td>Luo Liguo &amp; family</td>\n",
       "      <td>$9.6 B</td>\n",
       "      <td>67</td>\n",
       "      <td>China</td>\n",
       "      <td>Chemicals</td>\n",
       "      <td>Manufacturing</td>\n",
       "    </tr>\n",
       "    <tr>\n",
       "      <th>197</th>\n",
       "      <td>195</td>\n",
       "      <td>Marijke Mars</td>\n",
       "      <td>$9.6 B</td>\n",
       "      <td>58</td>\n",
       "      <td>United States</td>\n",
       "      <td>Candy, pet food</td>\n",
       "      <td>Food &amp; Beverage</td>\n",
       "    </tr>\n",
       "    <tr>\n",
       "      <th>198</th>\n",
       "      <td>195</td>\n",
       "      <td>Pamela Mars</td>\n",
       "      <td>$9.6 B</td>\n",
       "      <td>62</td>\n",
       "      <td>United States</td>\n",
       "      <td>Candy, pet food</td>\n",
       "      <td>Food &amp; Beverage</td>\n",
       "    </tr>\n",
       "    <tr>\n",
       "      <th>199</th>\n",
       "      <td>195</td>\n",
       "      <td>Valerie Mars</td>\n",
       "      <td>$9.6 B</td>\n",
       "      <td>64</td>\n",
       "      <td>United States</td>\n",
       "      <td>Candy, pet food</td>\n",
       "      <td>Food &amp; Beverage</td>\n",
       "    </tr>\n",
       "  </tbody>\n",
       "</table>\n",
       "<p>200 rows × 7 columns</p>\n",
       "</div>"
      ],
      "text/plain": [
       "    Rank                      Name Net Worth Age        Country  \\\n",
       "0      1  Bernard Arnault & family    $211 B  74         France   \n",
       "1      2                 Elon Musk    $180 B  51  United States   \n",
       "2      3                Jeff Bezos    $114 B  59  United States   \n",
       "3      4             Larry Ellison    $107 B  78  United States   \n",
       "4      5            Warren Buffett    $106 B  92  United States   \n",
       "..   ...                       ...       ...  ..            ...   \n",
       "195  195               Jin Baofang    $9.6 B  70          China   \n",
       "196  195        Luo Liguo & family    $9.6 B  67          China   \n",
       "197  195              Marijke Mars    $9.6 B  58  United States   \n",
       "198  195               Pamela Mars    $9.6 B  62  United States   \n",
       "199  195              Valerie Mars    $9.6 B  64  United States   \n",
       "\n",
       "                 Source               Industry  \n",
       "0                  LVMH       Fashion & Retail  \n",
       "1         Tesla, SpaceX             Automotive  \n",
       "2                Amazon             Technology  \n",
       "3                Oracle             Technology  \n",
       "4    Berkshire Hathaway  Finance & Investments  \n",
       "..                  ...                    ...  \n",
       "195        Solar panels                 Energy  \n",
       "196           Chemicals          Manufacturing  \n",
       "197     Candy, pet food        Food & Beverage  \n",
       "198     Candy, pet food        Food & Beverage  \n",
       "199     Candy, pet food        Food & Beverage  \n",
       "\n",
       "[200 rows x 7 columns]"
      ]
     },
     "execution_count": 49,
     "metadata": {},
     "output_type": "execute_result"
    }
   ],
   "source": [
    "df_wb=pd.DataFrame({'Rank': Rank,'Name':Name,'Net Worth':Net_worth,'Age':Age,'Country':Citizenship,'Source':Source,'Industry':Industry})\n",
    "df_wb"
   ]
  },
  {
   "cell_type": "code",
   "execution_count": null,
   "id": "9243ea31",
   "metadata": {},
   "outputs": [],
   "source": []
  }
 ],
 "metadata": {
  "kernelspec": {
   "display_name": "Python 3 (ipykernel)",
   "language": "python",
   "name": "python3"
  },
  "language_info": {
   "codemirror_mode": {
    "name": "ipython",
    "version": 3
   },
   "file_extension": ".py",
   "mimetype": "text/x-python",
   "name": "python",
   "nbconvert_exporter": "python",
   "pygments_lexer": "ipython3",
   "version": "3.9.13"
  }
 },
 "nbformat": 4,
 "nbformat_minor": 5
}
